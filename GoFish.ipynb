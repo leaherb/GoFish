{
 "cells": [
  {
   "cell_type": "markdown",
   "metadata": {},
   "source": [
    "# GoFish\n",
    "\n",
    "## Table of Contents\n",
    "<ul>\n",
    "<li><a href=\"#intro\">Introduction</a></li>\n",
    "<li><a href=\"#wrangling\">Data Wrangling</a></li>\n",
    "<li><a href=\"#eda\">Correlation Analysis</a></li>\n",
    "</ul>"
   ]
  },
  {
   "cell_type": "markdown",
   "metadata": {},
   "source": [
    "<a id='intro'></a>\n",
    "## Introduction\n",
    "### Overview\n",
    "**GoFish** reports Pearson's correlations between any number of targetted datasets.  "
   ]
  },
  {
   "cell_type": "markdown",
   "metadata": {},
   "source": [
    "### Caveats\n",
    "* This program is a reduction of a larger project. There may be some artifacts from that larger project that will need to be removed.\n",
    "* Only CSV files are loaded as target datasets\n",
    "* GoFish attempts to load all CSV files in a given directory\n",
    "* The 'given directory' is hardcoded as **Data**\n",
    "* Some hardcoding is present that makes this utility workable only with the **Example Dataset Source** files (below) \n",
    "* All CSV file datasets are assumed to have the following structure:\n",
    " * Column 1: country (regardless of column header)\n",
    " * Column 2-n: 4-digit year\n",
    "* Exception and error handling is not included"
   ]
  },
  {
   "cell_type": "markdown",
   "metadata": {},
   "source": [
    "### Example Dataset Source\n",
    "Downloads from <a href source=\"https://www.gapminder.org/data/\">Gapminder</a>\n",
    "\n",
    "> Note: Gapminder data is sometimes based on very rough estimates or extrapolations. All data, statistics and visuals presented here should be considered generalizations only. \n",
    "\n",
    "#### Population\n",
    "* Description: Total population\n",
    "* Download: population_total.csv \n",
    "\n",
    "#### Income\n",
    "* Description: Gross domestic product per person adjusted for differences in purchasing power (in international dollars, fixed 2011 prices, PPP based on 2011 ICP).\n",
    "* Download: income_per_person_gdppercapita_ppp_inflation_adjusted.csv\n",
    "\n",
    "#### Life expectancy (years)\n",
    "* Description: The average number of years a newborn child would live if current mortality patterns were to stay the same.\n",
    "* Download: life_expectancy_years.csv\n",
    "\n",
    "#### Water, overall access (%)\n",
    "* Description: The percentage of people using at least asic water services. This indicator encompasses both people using basic water services as well as those using safely managed water services. Basic drinking water services is defined as drinking water from an improved source, provided collection time is not more than 30 minutes for a round trip. Improved water sources include piped water, borholes or tubewells, protected dug wells, protected springs, and packaged or delivered water.\n",
    "* Download: at_least_basic_water_source_overall_access_percent.csv\n",
    "---"
   ]
  },
  {
   "cell_type": "markdown",
   "metadata": {},
   "source": [
    "## Prepare Project Environment"
   ]
  },
  {
   "cell_type": "code",
   "execution_count": 1,
   "metadata": {},
   "outputs": [],
   "source": [
    "import pandas as pd\n",
    "import numpy as np\n",
    "import matplotlib.pyplot as plt\n",
    "import csv\n",
    "from os import listdir\n",
    "from itertools import combinations\n",
    "\n",
    "%matplotlib inline"
   ]
  },
  {
   "cell_type": "markdown",
   "metadata": {},
   "source": [
    "Stylize Markdown cells"
   ]
  },
  {
   "cell_type": "code",
   "execution_count": 2,
   "metadata": {},
   "outputs": [
    {
     "data": {
      "text/html": [
       "<style>\n",
       "    table {\n",
       "        display: inline-block;\n",
       "    }\n",
       "    .boxed {\n",
       "        border: 1px solid grey;\n",
       "        padding: 20px;\n",
       "    }\n",
       "    .alert-block {\n",
       "        font-size: 1.5rem;\n",
       "    }\n",
       "    .alert-block p {\n",
       "        margin-bottom: 20px;\n",
       "    }\n",
       "    .coral-box {\n",
       "        background-color: #FFD3C2;\n",
       "    }\n",
       "    .blue-box {\n",
       "        background-color: #DAE5F3;\n",
       "    }\n",
       "    .green-box {\n",
       "        background-color: #DAF2E8;\n",
       "    }\n",
       "</style>"
      ],
      "text/plain": [
       "<IPython.core.display.HTML object>"
      ]
     },
     "metadata": {},
     "output_type": "display_data"
    }
   ],
   "source": [
    "%%html\n",
    "<style>\n",
    "    table {\n",
    "        display: inline-block;\n",
    "    }\n",
    "    .boxed {\n",
    "        border: 1px solid grey;\n",
    "        padding: 20px;\n",
    "    }\n",
    "    .alert-block {\n",
    "        font-size: 1.5rem;\n",
    "    }\n",
    "    .alert-block p {\n",
    "        margin-bottom: 20px;\n",
    "    }\n",
    "    .coral-box {\n",
    "        background-color: #FFD3C2;\n",
    "    }\n",
    "    .blue-box {\n",
    "        background-color: #DAE5F3;\n",
    "    }\n",
    "    .green-box {\n",
    "        background-color: #DAF2E8;\n",
    "    }\n",
    "</style>"
   ]
  },
  {
   "cell_type": "markdown",
   "metadata": {},
   "source": [
    "***\n",
    "\n",
    "<a id='wrangling'></a>\n",
    "## Data Wrangling\n",
    "\n",
    "1. Find all the CSV files (datasets) in a given directory.\n",
    "2. Load CSV data into dataframes.\n",
    "3. Compile the dataframes into a dictionary. \n",
    "4. Inspect the data."
   ]
  },
  {
   "cell_type": "code",
   "execution_count": 3,
   "metadata": {},
   "outputs": [],
   "source": [
    "# Functions for this section\n",
    "\n",
    "def find_csv_files (path_to_dir):\n",
    "    \"\"\"Return: List of filenames with suffix in path_to_dir.\"\"\"\n",
    "    return [filename for filename in listdir(path_to_dir) if filename.endswith( suffix )] \n",
    "\n",
    "\n",
    "\n",
    "def csv_dir_to_df_dict(path_to_dir):\n",
    "    \"\"\"Return dictionary of dataframes loaded with csv files in path_to_dir.\"\"\"\n",
    "    result_dict = {}\n",
    "    \n",
    "    for filename in find_csv_files(path_to_dir):\n",
    "        # Include path with filename \n",
    "        fullname = (\"{}/{}\").format(path_to_dir, filename)\n",
    "        \n",
    "        # dataframe name = filename, trimmed of suffix.\n",
    "        dfname = filename.rsplit(suffix)[0]\n",
    "        \n",
    "        result_dict[dfname] = pd.read_csv(fullname)\n",
    "        \n",
    "    return result_dict\n",
    "\n",
    "\n",
    "\n",
    "def print_df_preview(dfname, df):\n",
    "    \"\"\"Print the first & last several rows & columns of a dataframe.\"\"\"\n",
    "    print('\\n{}\\n{} {} :\\n\\n{}'.format\\\n",
    "          (\"=\"*50, dfname, \\\n",
    "           df.shape, \\\n",
    "           df[list(df.columns[0:3]) + list(df.columns[-3:])].iloc[[0,1,-2,-1]]\\\n",
    "          )) \n",
    "    \n",
    "    \n",
    "def print_dfdict_preview(df_dict):\n",
    "    \"\"\"Print preview of dataframes within a dictionary.\"\"\"\n",
    "    print('\\nHead & Tail of DataFrame rows & columns:\\n')\n",
    "    [print_df_preview(dfname, df) for dfname, df in df_dict.items()]\n",
    "    "
   ]
  },
  {
   "cell_type": "markdown",
   "metadata": {},
   "source": [
    "Load CSV data into `datasets_full`, a dictionary of dataframes, one dataframe for each CSV file."
   ]
  },
  {
   "cell_type": "code",
   "execution_count": 4,
   "metadata": {},
   "outputs": [],
   "source": [
    "# Identify dataset by directory name\n",
    "datasets = ['Data']"
   ]
  },
  {
   "cell_type": "code",
   "execution_count": 5,
   "metadata": {},
   "outputs": [],
   "source": [
    "# Create dictionary of dataframes\n",
    "suffix = '.csv'\n",
    "\n",
    "datasets_full = {}\n",
    "for dataset_path_to_dir in datasets:\n",
    "    datasets_full.update(csv_dir_to_df_dict(dataset_path_to_dir))"
   ]
  },
  {
   "cell_type": "markdown",
   "metadata": {},
   "source": [
    "All data is now loaded into `datasets_full`.\n",
    "\n",
    "Let's preview the loaded data ..."
   ]
  },
  {
   "cell_type": "code",
   "execution_count": 6,
   "metadata": {},
   "outputs": [
    {
     "name": "stdout",
     "output_type": "stream",
     "text": [
      "\n",
      "Head & Tail of DataFrame rows & columns:\n",
      "\n",
      "\n",
      "==================================================\n",
      "income_per_person_gdppercapita_ppp_inflation_adjusted (193, 220) :\n",
      "\n",
      "             geo  1800  1801   2016   2017   2018\n",
      "0    Afghanistan   603   603   1740   1800   1870\n",
      "1        Albania   667   667  11400  11900  12400\n",
      "191       Zambia   663   665   3640   3750   3870\n",
      "192     Zimbabwe   869   870   1860   1910   1950\n",
      "\n",
      "==================================================\n",
      "life_expectancy_years (187, 220) :\n",
      "\n",
      "             geo  1800  1801  2016  2017  2018\n",
      "0    Afghanistan  28.2  28.2  58.0  58.4  58.7\n",
      "1        Albania  35.4  35.4  77.7  77.9  78.0\n",
      "185       Zambia  32.6  32.6  58.8  59.1  59.5\n",
      "186     Zimbabwe  33.7  33.7  59.3  59.8  60.2\n",
      "\n",
      "==================================================\n",
      "population_total (195, 220) :\n",
      "\n",
      "             geo     1800     1801      2016      2017      2018\n",
      "0    Afghanistan  3280000  3280000  34700000  35500000  36400000\n",
      "1        Albania   410000   412000   2930000   2930000   2930000\n",
      "193       Zambia   747000   747000  16600000  17100000  17600000\n",
      "194     Zimbabwe  1090000  1090000  16200000  16500000  16900000\n",
      "\n",
      "==================================================\n",
      "at_least_basic_water_source_overall_access_percent (194, 17) :\n",
      "\n",
      "             geo  2000  2001  2013  2014  2015\n",
      "0    Afghanistan  27.1  27.2  57.8  60.4  63.0\n",
      "1        Albania  87.6  87.7  89.8  91.4  91.4\n",
      "192       Zambia  48.6  49.3  59.6  60.4  61.2\n",
      "193     Zimbabwe  70.4  70.5  67.1  66.9  66.6\n"
     ]
    }
   ],
   "source": [
    "# Preview a few rows & columns of each dataframe. Include their shapes.\n",
    "print_dfdict_preview(datasets_full)"
   ]
  },
  {
   "cell_type": "markdown",
   "metadata": {},
   "source": [
    "***\n",
    "Clean the datasets to make it ready for analysis ..."
   ]
  },
  {
   "cell_type": "markdown",
   "metadata": {},
   "source": [
    "\n",
    "### Data Cleaning\n",
    "\n",
    "Before data cleaning starts:\n",
    "* Create a dataframe called `meta_df` to itemize the dataframes.\n",
    "* Simplify dataframe names.\n",
    "\n",
    "Then clean and trim as follows:\n",
    "\n",
    "> **Columns**: Each dataframe contains a row for each country, and a sequence of year columns. Standardize the name of the country column to 'country' and index on it.\n",
    "\n",
    "> **Zeros and NaN**: Zero values are assumed to be years in which a statistic for a country was not gathered. Zeros can skew the data when calculating aggregates. For this reason, reset zero values to NaN.\n",
    "\n",
    "> **Countries**: Not all dataframes contain the same set of countries.  Avoid attempting to draw correlation between country statistics when not all countries have recorded statistics by trimming dataframes so they share a common set of countries.\n",
    "\n",
    "> **Years**: Not all dataframes contain the same range of years. Trim dataframes so they share a common range of years for consistent analysis."
   ]
  },
  {
   "cell_type": "markdown",
   "metadata": {},
   "source": [
    "#### Metadata\n",
    "Create `meta_df` to itemize loaded datasets. "
   ]
  },
  {
   "cell_type": "code",
   "execution_count": 7,
   "metadata": {},
   "outputs": [],
   "source": [
    "# Initialize meta_df with dataframe names\n",
    "meta_df = pd.DataFrame([dfname for dfname in datasets_full.keys()], \\\n",
    "                        columns=['dataframe'])"
   ]
  },
  {
   "cell_type": "markdown",
   "metadata": {},
   "source": [
    "Dataframes were named with CSV filenames, which are long and wordy. Create shorter aliases in `meta_df`.  (TODO: Automate name abbreviations)\n",
    "\n",
    "First, create an alias dictionary ..."
   ]
  },
  {
   "cell_type": "code",
   "execution_count": 8,
   "metadata": {},
   "outputs": [
    {
     "name": "stdout",
     "output_type": "stream",
     "text": [
      "\"income_per_person_gdppercapita_ppp_inflation_adjusted\":\"income\",\n",
      "\"life_expectancy_years\":\"life\",\n",
      "\"population_total\":\"population\",\n",
      "\"at_least_basic_water_source_overall_access_percent\":\"at\",\n"
     ]
    }
   ],
   "source": [
    "# Make cut/paste code for creating alias dictionary, \n",
    "# which needs to be copied to the next cell\n",
    "print('\"'+'\\n\"'.join(str(key)+'\":\"'+str(key).split(\"_\")[0]+'\",' for key in datasets_full.keys()))"
   ]
  },
  {
   "cell_type": "code",
   "execution_count": 9,
   "metadata": {},
   "outputs": [],
   "source": [
    "# Create alias dictionary\n",
    "alias_di = {\n",
    "    \"income_per_person_gdppercapita_ppp_inflation_adjusted\":\"income\", \\\n",
    "    \"life_expectancy_years\":\"life\", \\\n",
    "    \"population_total\":\"population\", \\\n",
    "    \"at_least_basic_water_source_overall_access_percent\":\"water\",\n",
    "    }"
   ]
  },
  {
   "cell_type": "markdown",
   "metadata": {},
   "source": [
    "Map the dataframe aliases to `meta_df` dataframe names and index on it."
   ]
  },
  {
   "cell_type": "code",
   "execution_count": 10,
   "metadata": {},
   "outputs": [
    {
     "data": {
      "text/html": [
       "<div>\n",
       "<style>\n",
       "    .dataframe thead tr:only-child th {\n",
       "        text-align: right;\n",
       "    }\n",
       "\n",
       "    .dataframe thead th {\n",
       "        text-align: left;\n",
       "    }\n",
       "\n",
       "    .dataframe tbody tr th {\n",
       "        vertical-align: top;\n",
       "    }\n",
       "</style>\n",
       "<table border=\"1\" class=\"dataframe\">\n",
       "  <thead>\n",
       "    <tr style=\"text-align: right;\">\n",
       "      <th></th>\n",
       "      <th>dataframe</th>\n",
       "    </tr>\n",
       "    <tr>\n",
       "      <th>statistic</th>\n",
       "      <th></th>\n",
       "    </tr>\n",
       "  </thead>\n",
       "  <tbody>\n",
       "    <tr>\n",
       "      <th>income</th>\n",
       "      <td>income_per_person_gdppercapita_ppp_inflation_a...</td>\n",
       "    </tr>\n",
       "    <tr>\n",
       "      <th>life</th>\n",
       "      <td>life_expectancy_years</td>\n",
       "    </tr>\n",
       "    <tr>\n",
       "      <th>population</th>\n",
       "      <td>population_total</td>\n",
       "    </tr>\n",
       "    <tr>\n",
       "      <th>water</th>\n",
       "      <td>at_least_basic_water_source_overall_access_per...</td>\n",
       "    </tr>\n",
       "  </tbody>\n",
       "</table>\n",
       "</div>"
      ],
      "text/plain": [
       "                                                    dataframe\n",
       "statistic                                                    \n",
       "income      income_per_person_gdppercapita_ppp_inflation_a...\n",
       "life                                    life_expectancy_years\n",
       "population                                   population_total\n",
       "water       at_least_basic_water_source_overall_access_per..."
      ]
     },
     "execution_count": 10,
     "metadata": {},
     "output_type": "execute_result"
    }
   ],
   "source": [
    "meta_df['statistic'] = meta_df['dataframe'].map(alias_di)\n",
    "meta_df.set_index('statistic', inplace=True)\n",
    "meta_df"
   ]
  },
  {
   "cell_type": "markdown",
   "metadata": {},
   "source": [
    "***\n",
    "Now rename dataframes using the aliases ..."
   ]
  },
  {
   "cell_type": "code",
   "execution_count": 11,
   "metadata": {},
   "outputs": [
    {
     "data": {
      "text/plain": [
       "['income', 'life', 'population', 'water']"
      ]
     },
     "execution_count": 11,
     "metadata": {},
     "output_type": "execute_result"
    }
   ],
   "source": [
    "# List original dataframe names\n",
    "dflist = list(datasets_full.keys())\n",
    "\n",
    "# rename dataframes with their statistic name (mapped in meta_df)\n",
    "for df in dflist:\n",
    "    datasets_full[meta_df[meta_df['dataframe'] == df].index[0]] = datasets_full.pop(df)\n",
    "\n",
    "# Verify new dataframe (statistic) names\n",
    "list(datasets_full.keys())"
   ]
  },
  {
   "cell_type": "markdown",
   "metadata": {},
   "source": [
    "***\n",
    "Data structures are ready. Start cleaning ..."
   ]
  },
  {
   "cell_type": "markdown",
   "metadata": {},
   "source": [
    "#### Columns - Rename and Index\n",
    "Standardize all dataframe Country columns to 'country', and make it the row index."
   ]
  },
  {
   "cell_type": "code",
   "execution_count": 12,
   "metadata": {},
   "outputs": [],
   "source": [
    "# function to rename/reindex\n",
    "f = lambda df: (df.rename(columns={'geo':'country'}).set_index('country'))\n",
    "\n",
    "# loop through dataframes\n",
    "for dfname in list(datasets_full.keys()):\n",
    "    datasets_full[dfname] = f(datasets_full[dfname])"
   ]
  },
  {
   "cell_type": "code",
   "execution_count": 13,
   "metadata": {},
   "outputs": [
    {
     "name": "stdout",
     "output_type": "stream",
     "text": [
      "Are all dataframe indexes named \"country\"?\n"
     ]
    },
    {
     "data": {
      "text/plain": [
       "True"
      ]
     },
     "execution_count": 13,
     "metadata": {},
     "output_type": "execute_result"
    }
   ],
   "source": [
    "# Confirm all indexes are 'country' \n",
    "# TODO: add error handling procedures\n",
    "print('Are all dataframe indexes named \"country\"?')\n",
    "'country' == np.unique(list(map(lambda k: datasets_full[k].index.name, (k for k in datasets_full.keys()))))[0]"
   ]
  },
  {
   "cell_type": "markdown",
   "metadata": {},
   "source": [
    "Hard copy `datasets_full` (original data) to `datasets_trim` (clean this copy.)"
   ]
  },
  {
   "cell_type": "code",
   "execution_count": 14,
   "metadata": {},
   "outputs": [],
   "source": [
    "datasets_trim = datasets_full.copy()"
   ]
  },
  {
   "cell_type": "markdown",
   "metadata": {},
   "source": [
    "#### Zeros and NaN - Cleanup\n",
    "Any Zero values are assumed to be placeholders for missing data. Since zero values can inadvertently skew aggregate calculations, reset them to NaN (null).\n",
    "\n",
    "Afterwards, make sure there are now no rows completely empty."
   ]
  },
  {
   "cell_type": "code",
   "execution_count": 15,
   "metadata": {},
   "outputs": [],
   "source": [
    "# Functions for this section\n",
    "\n",
    "def print_empties(dfname, df):\n",
    "    \"\"\"Return False if no zeros, True of any are found. Print columns and rows with Zero values.\"\"\"\n",
    "    result = False\n",
    "    zero_count = (df[df.columns]==0).any(axis=1).sum()\n",
    "    if zero_count:\n",
    "        print('\\n{}\\n{}:'.format('='*50, dfname))\n",
    "        print('{}\\n'.format(df[df.isin([0]).any(axis=1)]))\n",
    "        result = True\n",
    "    return result\n",
    "            \n",
    "            \n",
    "\n",
    "def print_if_all_nulls(df_dict):\n",
    "    \"\"\"Return None. Print report, listing any dataframes that have rows containing only null values.\"\"\"\n",
    "    found = False\n",
    "    for dfname, df in datasets_trim.items():\n",
    "        if pd.isnull(df).all(1).any():\n",
    "            print('{} has row with all nulls.'.format(dfname))\n",
    "            found = True\n",
    "    if not found:\n",
    "        print('No empty rows.')\n",
    "    \n",
    "    return None"
   ]
  },
  {
   "cell_type": "markdown",
   "metadata": {},
   "source": [
    "Print any Zero values ..."
   ]
  },
  {
   "cell_type": "code",
   "execution_count": 16,
   "metadata": {},
   "outputs": [
    {
     "name": "stdout",
     "output_type": "stream",
     "text": [
      "DataFrame Rows with Zero Values:\n",
      "\n",
      "==================================================\n",
      "life:\n",
      "                  1800  1801  1802  1803  1804  1805  1806  1807  1808  1809  \\\n",
      "country                                                                        \n",
      "Andorra            0.0   0.0   0.0   0.0   0.0   0.0   0.0   0.0   0.0   0.0   \n",
      "Dominica           0.0   0.0   0.0   0.0   0.0   0.0   0.0   0.0   0.0   0.0   \n",
      "Marshall Islands   0.0   0.0   0.0   0.0   0.0   0.0   0.0   0.0   0.0   0.0   \n",
      "\n",
      "                  ...   2009  2010  2011  2012  2013  2014  2015  2016  2017  \\\n",
      "country           ...                                                          \n",
      "Andorra           ...   82.7  82.7  82.6  82.6  82.6  82.6  82.5  82.5   0.0   \n",
      "Dominica          ...   73.4  73.0  73.0  72.9  72.7  72.7  71.7  73.0   0.0   \n",
      "Marshall Islands  ...   63.5  63.7  63.9  64.1  64.3  64.5  64.7  65.0   0.0   \n",
      "\n",
      "                  2018  \n",
      "country                 \n",
      "Andorra            NaN  \n",
      "Dominica           NaN  \n",
      "Marshall Islands   NaN  \n",
      "\n",
      "[3 rows x 219 columns]\n",
      "\n",
      "\n",
      "==================================================\n",
      "water:\n",
      "                     2000  2001  2002  2003  2004  2005  2006  2007  2008  \\\n",
      "country                                                                     \n",
      "Brunei                0.0   0.0   0.0   0.0   0.0   0.0   0.0  99.5  99.5   \n",
      "Libya                 0.0   0.0   0.0   0.0   0.0   0.0   0.0   0.0   0.0   \n",
      "Marshall Islands      0.0  79.3  79.2  79.1  79.0  79.0  78.9  78.8  78.7   \n",
      "Montenegro            0.0   0.0   0.0   0.0   0.0   0.0  95.3  95.5  95.7   \n",
      "Oman                  0.0  76.3  76.3  76.3  76.4  76.6  78.1  79.7  81.2   \n",
      "Poland                0.0   0.0   0.0   0.0   0.0  97.9  97.9  97.9  97.9   \n",
      "South Korea           0.0   0.0  98.5  98.5  98.5  98.5  98.5  98.6  98.8   \n",
      "South Sudan           0.0   0.0   0.0   0.0   0.0   0.0   0.0   0.0   0.0   \n",
      "St. Kitts and Nevis  98.2  98.3  98.4  98.5  98.5  98.6  98.7  98.8  98.9   \n",
      "Timor-Leste           0.0   0.0  52.0  53.3  54.7  56.1  57.5  58.9  60.3   \n",
      "Tuvalu                0.0  97.9  97.9  97.9  97.9  97.9  98.1  98.2  98.4   \n",
      "United States         0.0   0.0   0.0   0.0   0.0  99.1  99.2  99.2  99.2   \n",
      "Uzbekistan           85.4  86.2  87.0  87.8  88.6  89.4  90.2  90.9  91.5   \n",
      "\n",
      "                     2009  2010  2011  2012  2013  2014  2015  \n",
      "country                                                        \n",
      "Brunei               99.5  99.5  99.5  99.5  99.5  99.5  99.5  \n",
      "Libya                 0.0  96.8  96.8  96.8  96.8  96.8  96.8  \n",
      "Marshall Islands     78.6  78.5  78.5  78.4  78.3  78.2  78.2  \n",
      "Montenegro           95.8  96.0  96.2  96.4  96.5  96.7  97.6  \n",
      "Oman                 82.7  84.2  85.7  87.1  88.6  90.0  90.9  \n",
      "Poland               97.9  97.9  97.9  97.9  97.9  97.9  97.9  \n",
      "South Korea          98.9  99.0  99.1  99.2  99.4  99.5  99.6  \n",
      "South Sudan           0.0   0.0  42.7  44.7  46.6  48.5  50.4  \n",
      "St. Kitts and Nevis  99.0  99.0  99.0  99.0  99.0   0.0   NaN  \n",
      "Timor-Leste          61.7  63.1  64.5  66.0  67.4  68.8  70.2  \n",
      "Tuvalu               98.5  98.7  98.8  99.0  99.1  99.3  99.3  \n",
      "United States        99.2  99.2  99.2  99.2  99.2  99.2  99.2  \n",
      "Uzbekistan           91.5  91.5  91.5  91.5   0.0   0.0   NaN  \n",
      "\n"
     ]
    }
   ],
   "source": [
    "print('DataFrame Rows with Zero Values:')\n",
    "[print_empties(dfname, df) for dfname, df in datasets_trim.items()];"
   ]
  },
  {
   "cell_type": "markdown",
   "metadata": {},
   "source": [
    "It looks like there are only a few countries with Zero values, and even those have at least 5 years of data from which we can aggregate. Go ahead and translate all Zeros into NaNs ..."
   ]
  },
  {
   "cell_type": "code",
   "execution_count": 17,
   "metadata": {},
   "outputs": [],
   "source": [
    "# Replace zeros with NaN, then drop any rows where all values are NaN. \n",
    "for dfname, df in datasets_trim.items():\n",
    "    datasets_trim[dfname] = datasets_trim[dfname].replace({0:np.nan, 0.0:np.nan})\n",
    "    datasets_trim[dfname] = datasets_trim[dfname].dropna(how='all')"
   ]
  },
  {
   "cell_type": "code",
   "execution_count": 18,
   "metadata": {},
   "outputs": [
    {
     "name": "stdout",
     "output_type": "stream",
     "text": [
      "No empty rows.\n"
     ]
    }
   ],
   "source": [
    "# Verify there are no empty rows.\n",
    "print_if_all_nulls(datasets_trim)"
   ]
  },
  {
   "cell_type": "markdown",
   "metadata": {},
   "source": [
    "TODO: more error handling here ... handle any non-empty rows.\n",
    "\n",
    "Start trimming ..."
   ]
  },
  {
   "cell_type": "markdown",
   "metadata": {},
   "source": [
    "#### Countries - Trim\n",
    "Make sure dataframes share a common set of countries (inner join) by trimming any countries not shared by all dataframes.\n",
    "\n",
    "First, identify the countries to be trimmed and list them in `meta_df` for reference."
   ]
  },
  {
   "cell_type": "code",
   "execution_count": 19,
   "metadata": {},
   "outputs": [
    {
     "data": {
      "text/html": [
       "<div>\n",
       "<style>\n",
       "    .dataframe thead tr:only-child th {\n",
       "        text-align: right;\n",
       "    }\n",
       "\n",
       "    .dataframe thead th {\n",
       "        text-align: left;\n",
       "    }\n",
       "\n",
       "    .dataframe tbody tr th {\n",
       "        vertical-align: top;\n",
       "    }\n",
       "</style>\n",
       "<table border=\"1\" class=\"dataframe\">\n",
       "  <thead>\n",
       "    <tr style=\"text-align: right;\">\n",
       "      <th></th>\n",
       "      <th>dataframe</th>\n",
       "      <th>excluded_countries</th>\n",
       "    </tr>\n",
       "    <tr>\n",
       "      <th>statistic</th>\n",
       "      <th></th>\n",
       "      <th></th>\n",
       "    </tr>\n",
       "  </thead>\n",
       "  <tbody>\n",
       "    <tr>\n",
       "      <th>income</th>\n",
       "      <td>income_per_person_gdppercapita_ppp_inflation_adjusted</td>\n",
       "      <td>[Monaco, Nauru, Palau, San Marino, St. Kitts and Nevis, Tuvalu]</td>\n",
       "    </tr>\n",
       "    <tr>\n",
       "      <th>life</th>\n",
       "      <td>life_expectancy_years</td>\n",
       "      <td>[]</td>\n",
       "    </tr>\n",
       "    <tr>\n",
       "      <th>population</th>\n",
       "      <td>population_total</td>\n",
       "      <td>[Holy See, Liechtenstein, Monaco, Nauru, Palau, San Marino, St. Kitts and Nevis, Tuvalu]</td>\n",
       "    </tr>\n",
       "    <tr>\n",
       "      <th>water</th>\n",
       "      <td>at_least_basic_water_source_overall_access_percent</td>\n",
       "      <td>[Liechtenstein, Monaco, Nauru, Palau, San Marino, St. Kitts and Nevis, Tuvalu]</td>\n",
       "    </tr>\n",
       "  </tbody>\n",
       "</table>\n",
       "</div>"
      ],
      "text/plain": [
       "                                                        dataframe  \\\n",
       "statistic                                                           \n",
       "income      income_per_person_gdppercapita_ppp_inflation_adjusted   \n",
       "life        life_expectancy_years                                   \n",
       "population  population_total                                        \n",
       "water       at_least_basic_water_source_overall_access_percent      \n",
       "\n",
       "                                                                                  excluded_countries  \n",
       "statistic                                                                                             \n",
       "income      [Monaco, Nauru, Palau, San Marino, St. Kitts and Nevis, Tuvalu]                           \n",
       "life        []                                                                                        \n",
       "population  [Holy See, Liechtenstein, Monaco, Nauru, Palau, San Marino, St. Kitts and Nevis, Tuvalu]  \n",
       "water       [Liechtenstein, Monaco, Nauru, Palau, San Marino, St. Kitts and Nevis, Tuvalu]            "
      ]
     },
     "execution_count": 19,
     "metadata": {},
     "output_type": "execute_result"
    }
   ],
   "source": [
    "# Create list of common countries.\n",
    "dflist = list(datasets_trim.values())\n",
    "common_countries_list = pd.concat(dflist, axis=1, join='inner').index\n",
    "\n",
    "# Add uncommon countries (to be trimmed) to meta_df.\n",
    "meta_df['excluded_countries'] = \"\"\n",
    "for data_set, df in datasets_trim.items():\n",
    "    meta_df.loc[data_set]['excluded_countries'] = [x for x in df.index if x not in common_countries_list]\n",
    "    \n",
    "# View the countries to be excluded.\n",
    "pd.set_option('display.max_colwidth', -1)\n",
    "meta_df"
   ]
  },
  {
   "cell_type": "markdown",
   "metadata": {},
   "source": [
    "***\n",
    "TODO: add functionality to verify with the analyst that the above list is acceptable before trimming excluded countries.\n",
    "\n",
    "Exclude non-common countries from dataframes."
   ]
  },
  {
   "cell_type": "code",
   "execution_count": 20,
   "metadata": {},
   "outputs": [],
   "source": [
    "for dfname, df in datasets_trim.items():\n",
    "    datasets_trim[dfname] = df[df.index.isin(common_countries_list)]"
   ]
  },
  {
   "cell_type": "markdown",
   "metadata": {},
   "source": [
    "Verify dataframe row counts match (confirming the same number of countries)."
   ]
  },
  {
   "cell_type": "code",
   "execution_count": 21,
   "metadata": {},
   "outputs": [
    {
     "name": "stdout",
     "output_type": "stream",
     "text": [
      "187 income\n",
      "187 life\n",
      "187 population\n",
      "187 water\n"
     ]
    }
   ],
   "source": [
    "[print(df.shape[0], dfname) for dfname, df in datasets_trim.items()];"
   ]
  },
  {
   "cell_type": "markdown",
   "metadata": {},
   "source": [
    "TODO: more automated exception handling here, verify working with a uniform set of countries.  \n",
    "\n",
    "Trim year columns ..."
   ]
  },
  {
   "cell_type": "markdown",
   "metadata": {},
   "source": [
    "#### Years - Trim\n",
    "Verify a consistent range of years by finding a common range of years and trimming the rest."
   ]
  },
  {
   "cell_type": "code",
   "execution_count": 22,
   "metadata": {},
   "outputs": [],
   "source": [
    "# Functions for this section\n",
    "\n",
    "def get_year_metadata(dict):\n",
    "    \"\"\"Return dataframe containing range of years.\"\"\"\n",
    "    result_df = pd.DataFrame()\n",
    "\n",
    "    for dfname, df in dict.items():\n",
    "        result_df[dfname] = [df.columns[0], df.columns[-1]]\n",
    "\n",
    "    result_df = result_df.transpose()   \n",
    "    result_df.rename(columns = {0:'first_year',1:'last_year'}, inplace=True)\n",
    "    result_df.index.names = ['data_set']\n",
    "    return result_df\n",
    "\n",
    "\n",
    "\n",
    "def trim_df_dict(df_dict, col_list):\n",
    "    \"\"\"Return dictionary of dataframes, trimmed of columns not in col_list.\"\"\"\n",
    "    result_dict = {}\n",
    "    for dfname, df in df_dict.items():\n",
    "        keep_columns = [col for col in df_dict[dfname].columns if col in col_list]\n",
    "        result_dict[dfname] = df_dict[dfname][keep_columns]\n",
    "        \n",
    "    return result_dict"
   ]
  },
  {
   "cell_type": "markdown",
   "metadata": {},
   "source": [
    "Before trimming years, record the original year ranges to `meta_df` for reference, and report the Common Year Range."
   ]
  },
  {
   "cell_type": "code",
   "execution_count": 23,
   "metadata": {},
   "outputs": [
    {
     "data": {
      "text/html": [
       "<div>\n",
       "<style>\n",
       "    .dataframe thead tr:only-child th {\n",
       "        text-align: right;\n",
       "    }\n",
       "\n",
       "    .dataframe thead th {\n",
       "        text-align: left;\n",
       "    }\n",
       "\n",
       "    .dataframe tbody tr th {\n",
       "        vertical-align: top;\n",
       "    }\n",
       "</style>\n",
       "<table border=\"1\" class=\"dataframe\">\n",
       "  <thead>\n",
       "    <tr style=\"text-align: right;\">\n",
       "      <th></th>\n",
       "      <th>first_year</th>\n",
       "      <th>last_year</th>\n",
       "    </tr>\n",
       "  </thead>\n",
       "  <tbody>\n",
       "    <tr>\n",
       "      <th>income</th>\n",
       "      <td>1800</td>\n",
       "      <td>2018</td>\n",
       "    </tr>\n",
       "    <tr>\n",
       "      <th>life</th>\n",
       "      <td>1800</td>\n",
       "      <td>2018</td>\n",
       "    </tr>\n",
       "    <tr>\n",
       "      <th>population</th>\n",
       "      <td>1800</td>\n",
       "      <td>2018</td>\n",
       "    </tr>\n",
       "    <tr>\n",
       "      <th>water</th>\n",
       "      <td>2000</td>\n",
       "      <td>2015</td>\n",
       "    </tr>\n",
       "  </tbody>\n",
       "</table>\n",
       "</div>"
      ],
      "text/plain": [
       "           first_year last_year\n",
       "income      1800       2018    \n",
       "life        1800       2018    \n",
       "population  1800       2018    \n",
       "water       2000       2015    "
      ]
     },
     "execution_count": 23,
     "metadata": {},
     "output_type": "execute_result"
    }
   ],
   "source": [
    "meta_df = pd.concat([meta_df, get_year_metadata(datasets_trim)], axis=1)\n",
    "meta_df[['first_year','last_year']]"
   ]
  },
  {
   "cell_type": "code",
   "execution_count": 24,
   "metadata": {},
   "outputs": [
    {
     "name": "stdout",
     "output_type": "stream",
     "text": [
      "Common Year Range: 2000 -> 2015\n",
      "\n"
     ]
    }
   ],
   "source": [
    "# Find common range\n",
    "first_year, last_year = (meta_df['first_year'].max(), meta_df['last_year'].min())\n",
    "\n",
    "# Confirm range of years\n",
    "print('Common Year Range: {} -> {}\\n'.format(first_year, last_year))"
   ]
  },
  {
   "cell_type": "markdown",
   "metadata": {},
   "source": [
    "TODO: more exception handling here.\n",
    "\n",
    "Trim the years outside the Common Year Range."
   ]
  },
  {
   "cell_type": "code",
   "execution_count": 25,
   "metadata": {},
   "outputs": [],
   "source": [
    "years_in_range = [str(y) for y in list(range(int(first_year),int(last_year)+1))]\n",
    "datasets_trim = trim_df_dict(datasets_trim, years_in_range)"
   ]
  },
  {
   "cell_type": "markdown",
   "metadata": {},
   "source": [
    "At this point, dataframes should have the same shape (country rows and year columns). Verify this ... (TODO: automate the verification)"
   ]
  },
  {
   "cell_type": "code",
   "execution_count": 26,
   "metadata": {},
   "outputs": [
    {
     "name": "stdout",
     "output_type": "stream",
     "text": [
      "(187, 16) <-- income\n",
      "(187, 16) <-- life\n",
      "(187, 16) <-- population\n",
      "(187, 16) <-- water\n"
     ]
    }
   ],
   "source": [
    "# Confirm trimmed datasets. Each dataset should have same year columns.\n",
    "[print('{} <-- {}'.format(df.shape, dfname)) for dfname, df in datasets_trim.items()];"
   ]
  },
  {
   "cell_type": "markdown",
   "metadata": {},
   "source": [
    "***\n",
    "Dataframes should now clean and trim. "
   ]
  },
  {
   "cell_type": "markdown",
   "metadata": {},
   "source": [
    "***\n",
    "<a id='eda'></a>\n",
    "## Correlation Analysis"
   ]
  },
  {
   "cell_type": "markdown",
   "metadata": {},
   "source": [
    "*** \n",
    "Use `datasets_trim` for these set of questions, since its dataframes have a consistent country list and range of years. \n",
    "\n",
    "Consider each dataset an individual 'factor'. \n",
    "\n",
    "TODO: make factor identification more flexible, such as multiple factors per dataset."
   ]
  },
  {
   "cell_type": "markdown",
   "metadata": {},
   "source": [
    "#### Prepare the data\n",
    "Create two new structures:\n",
    "* `dataset_stats` - dictionary of dataframes, similar to the `datasets_trim` dataframes but containing only the averages for each country. (Includes averages of factor statistics. TODO: drop if not needed.)"
   ]
  },
  {
   "cell_type": "code",
   "execution_count": 27,
   "metadata": {},
   "outputs": [],
   "source": [
    "\n",
    "# Create dataset_stats (dictionary of dataframes of with country means)\n",
    "dataset_stats = {}\n",
    "for dfname, df in datasets_trim.items():\n",
    "    dataset_stats[dfname] = df.transpose()\\\n",
    "                            .describe().loc[['mean']]\\\n",
    "                            .transpose()"
   ]
  },
  {
   "cell_type": "code",
   "execution_count": 28,
   "metadata": {},
   "outputs": [
    {
     "data": {
      "text/plain": [
       "array([['income', 'income_mean'],\n",
       "       ['life', 'life_mean'],\n",
       "       ['population', 'population_mean'],\n",
       "       ['water', 'water_mean']], dtype='<U15')"
      ]
     },
     "execution_count": 28,
     "metadata": {},
     "output_type": "execute_result"
    }
   ],
   "source": [
    "# Create 2D array, a row for each stat: \n",
    "#   [[statistic name, statistic mean name]]\n",
    "stats_arr = np.array([(stat, stat+\"_mean\") for stat in meta_df.index])\n",
    "stats_arr"
   ]
  },
  {
   "cell_type": "markdown",
   "metadata": {},
   "source": [
    "Let's get a quick glance at population distributions."
   ]
  },
  {
   "cell_type": "code",
   "execution_count": 29,
   "metadata": {},
   "outputs": [
    {
     "data": {
      "text/html": [
       "<div>\n",
       "<style>\n",
       "    .dataframe thead tr:only-child th {\n",
       "        text-align: right;\n",
       "    }\n",
       "\n",
       "    .dataframe thead th {\n",
       "        text-align: left;\n",
       "    }\n",
       "\n",
       "    .dataframe tbody tr th {\n",
       "        vertical-align: top;\n",
       "    }\n",
       "</style>\n",
       "<table border=\"1\" class=\"dataframe\">\n",
       "  <thead>\n",
       "    <tr style=\"text-align: right;\">\n",
       "      <th></th>\n",
       "      <th>mean</th>\n",
       "    </tr>\n",
       "  </thead>\n",
       "  <tbody>\n",
       "    <tr>\n",
       "      <th>count</th>\n",
       "      <td>187.00</td>\n",
       "    </tr>\n",
       "    <tr>\n",
       "      <th>mean</th>\n",
       "      <td>35,914,184.86</td>\n",
       "    </tr>\n",
       "    <tr>\n",
       "      <th>std</th>\n",
       "      <td>134,636,842.28</td>\n",
       "    </tr>\n",
       "    <tr>\n",
       "      <th>min</th>\n",
       "      <td>52,368.75</td>\n",
       "    </tr>\n",
       "    <tr>\n",
       "      <th>25%</th>\n",
       "      <td>2,093,437.50</td>\n",
       "    </tr>\n",
       "    <tr>\n",
       "      <th>50%</th>\n",
       "      <td>7,769,375.00</td>\n",
       "    </tr>\n",
       "    <tr>\n",
       "      <th>75%</th>\n",
       "      <td>23,634,375.00</td>\n",
       "    </tr>\n",
       "    <tr>\n",
       "      <th>max</th>\n",
       "      <td>1,340,625,000.00</td>\n",
       "    </tr>\n",
       "  </tbody>\n",
       "</table>\n",
       "</div>"
      ],
      "text/plain": [
       "                  mean\n",
       "count 187.00          \n",
       "mean  35,914,184.86   \n",
       "std   134,636,842.28  \n",
       "min   52,368.75       \n",
       "25%   2,093,437.50    \n",
       "50%   7,769,375.00    \n",
       "75%   23,634,375.00   \n",
       "max   1,340,625,000.00"
      ]
     },
     "execution_count": 29,
     "metadata": {},
     "output_type": "execute_result"
    }
   ],
   "source": [
    "pd.options.display.float_format = '{:,.2f}'.format\n",
    "dataset_stats['population'].describe()"
   ]
  },
  {
   "cell_type": "markdown",
   "metadata": {},
   "source": [
    "Find the correlation between every pair of factor statistics. First, create the pairings ..."
   ]
  },
  {
   "cell_type": "code",
   "execution_count": 30,
   "metadata": {},
   "outputs": [],
   "source": [
    "# Create tuple pairs of all our statistic (dataframe) combinations.\n",
    "stat_list = list(datasets_trim.keys())\n",
    "dataset_corrs = pd.DataFrame(columns=['size','this_stat','that_stat','r'])\n",
    "combines = list(combinations(stat_list,2))"
   ]
  },
  {
   "cell_type": "markdown",
   "metadata": {},
   "source": [
    "Now calculate the correlaltion coefficients ('r') for each pair ..."
   ]
  },
  {
   "cell_type": "code",
   "execution_count": 31,
   "metadata": {},
   "outputs": [
    {
     "name": "stdout",
     "output_type": "stream",
     "text": [
      "Done\n"
     ]
    }
   ],
   "source": [
    "# Compute correlation coefficients against each statistic pair.\n",
    "for stat_tuple in combines:\n",
    "    this_stat = stat_tuple[0] \n",
    "    that_stat = stat_tuple[1]\n",
    "    this_mean = dataset_stats[this_stat]['mean']\n",
    "    that_mean = dataset_stats[that_stat]['mean']\n",
    "    \n",
    "    correlation = this_mean.corr(that_mean)\n",
    "    dataset_corrs = dataset_corrs.append\\\n",
    "        ({'size':'all', \\\n",
    "          'this_stat':this_stat, \\\n",
    "          'that_stat':that_stat, \\\n",
    "          'r':correlation}, \\\n",
    "         ignore_index=True)  \n",
    "        \n",
    "print('Done')"
   ]
  },
  {
   "cell_type": "markdown",
   "metadata": {},
   "source": [
    "What are the correlation coefficients of each statistic pair?"
   ]
  },
  {
   "cell_type": "code",
   "execution_count": 32,
   "metadata": {},
   "outputs": [
    {
     "data": {
      "text/html": [
       "<div>\n",
       "<style>\n",
       "    .dataframe thead tr:only-child th {\n",
       "        text-align: right;\n",
       "    }\n",
       "\n",
       "    .dataframe thead th {\n",
       "        text-align: left;\n",
       "    }\n",
       "\n",
       "    .dataframe tbody tr th {\n",
       "        vertical-align: top;\n",
       "    }\n",
       "</style>\n",
       "<table border=\"1\" class=\"dataframe\">\n",
       "  <thead>\n",
       "    <tr style=\"text-align: right;\">\n",
       "      <th></th>\n",
       "      <th>size</th>\n",
       "      <th>this_stat</th>\n",
       "      <th>that_stat</th>\n",
       "      <th>r</th>\n",
       "    </tr>\n",
       "  </thead>\n",
       "  <tbody>\n",
       "    <tr>\n",
       "      <th>1</th>\n",
       "      <td>all</td>\n",
       "      <td>income</td>\n",
       "      <td>population</td>\n",
       "      <td>-0.05</td>\n",
       "    </tr>\n",
       "    <tr>\n",
       "      <th>3</th>\n",
       "      <td>all</td>\n",
       "      <td>life</td>\n",
       "      <td>population</td>\n",
       "      <td>0.02</td>\n",
       "    </tr>\n",
       "    <tr>\n",
       "      <th>5</th>\n",
       "      <td>all</td>\n",
       "      <td>population</td>\n",
       "      <td>water</td>\n",
       "      <td>0.03</td>\n",
       "    </tr>\n",
       "    <tr>\n",
       "      <th>2</th>\n",
       "      <td>all</td>\n",
       "      <td>income</td>\n",
       "      <td>water</td>\n",
       "      <td>0.52</td>\n",
       "    </tr>\n",
       "    <tr>\n",
       "      <th>0</th>\n",
       "      <td>all</td>\n",
       "      <td>income</td>\n",
       "      <td>life</td>\n",
       "      <td>0.61</td>\n",
       "    </tr>\n",
       "    <tr>\n",
       "      <th>4</th>\n",
       "      <td>all</td>\n",
       "      <td>life</td>\n",
       "      <td>water</td>\n",
       "      <td>0.82</td>\n",
       "    </tr>\n",
       "  </tbody>\n",
       "</table>\n",
       "</div>"
      ],
      "text/plain": [
       "  size   this_stat   that_stat     r\n",
       "1  all  income      population -0.05\n",
       "3  all  life        population 0.02 \n",
       "5  all  population  water      0.03 \n",
       "2  all  income      water      0.52 \n",
       "0  all  income      life       0.61 \n",
       "4  all  life        water      0.82 "
      ]
     },
     "execution_count": 32,
     "metadata": {},
     "output_type": "execute_result"
    }
   ],
   "source": [
    "dataset_corrs.sort_values(by=['r'])"
   ]
  },
  {
   "cell_type": "markdown",
   "metadata": {},
   "source": [
    "It appears that population has little to no correlation with life expetancy, water access and income.\n",
    "\n",
    "Let's visualize the pairings to simplify conceptualization ..."
   ]
  },
  {
   "cell_type": "code",
   "execution_count": 33,
   "metadata": {},
   "outputs": [
    {
     "data": {
      "image/png": "[encoded data removed]",
      "text/plain": [
       "<matplotlib.figure.Figure at 0x114313710>"
      ]
     },
     "metadata": {},
     "output_type": "display_data"
    }
   ],
   "source": [
    "df = dataset_corrs[dataset_corrs['size'] == 'all']\n",
    "x = df['r']\n",
    "y = df['this_stat'].astype(str) + ' / ' + df['that_stat'].astype(str)\n",
    "data = pd.concat([x,y], axis=1).set_index(0).rename_axis('this/that').sort_values(by='r')\n",
    "ax = data['r'].plot(kind='barh',figsize=(7,4), fontsize=13, color='steelblue');\n",
    "ax.set_title(\"Statistic Correlations, Globally\", fontsize=20, color='black')\n",
    "ax.set_xlabel(\"Correlation Coefficients\", fontsize=18, color='black')\n",
    "ax.set_ylabel(\"Statistic Pairs\", fontsize=18, color='black');"
   ]
  },
  {
   "cell_type": "markdown",
   "metadata": {},
   "source": [
    "***"
   ]
  },
  {
   "cell_type": "code",
   "execution_count": null,
   "metadata": {},
   "outputs": [],
   "source": []
  }
 ],
 "metadata": {
  "kernelspec": {
   "display_name": "Python [default]",
   "language": "python",
   "name": "python3"
  },
  "language_info": {
   "codemirror_mode": {
    "name": "ipython",
    "version": 3
   },
   "file_extension": ".py",
   "mimetype": "text/x-python",
   "name": "python",
   "nbconvert_exporter": "python",
   "pygments_lexer": "ipython3",
   "version": "3.6.3"
  }
 },
 "nbformat": 4,
 "nbformat_minor": 2
}
