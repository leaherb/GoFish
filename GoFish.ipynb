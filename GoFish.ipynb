{
 "cells": [
  {
   "cell_type": "code",
   "execution_count": 1,
   "metadata": {},
   "outputs": [],
   "source": [
    "import glob\n",
    "import csv\n",
    "import pandas as pd\n",
    "import numpy as np\n",
    "from os import listdir\n",
    "import matplotlib.pyplot as plt\n",
    "from itertools import combinations"
   ]
  },
  {
   "cell_type": "markdown",
   "metadata": {},
   "source": [
    "## Data Wrangling\n",
    "1. Load each individual CSV file data into a dataframe.\n",
    "2. Add each dataframe to a dictionary of dataframes.\n",
    "3. Inspect the data."
   ]
  },
  {
   "cell_type": "markdown",
   "metadata": {},
   "source": [
    "Data Wrangling Functions "
   ]
  },
  {
   "cell_type": "code",
   "execution_count": 2,
   "metadata": {},
   "outputs": [],
   "source": [
    "def inspect_di_df(this_di):\n",
    "    for df in this_di.keys():\n",
    "        print('\\nDataframe: {}\\n'.format(df))\n",
    "        print(this_di[df].info(verbose=False))\n",
    "        print('='*50)\n",
    "        \n",
    "        \n",
    "def print_df_preview(dfname, df):\n",
    "    \"\"\"Print the first & last several rows & columns of a dataframe.\"\"\"\n",
    "    print('\\n{}\\n{} {} :\\n\\n{}' \\\n",
    "          .format(\"=\"*50, dfname, \\\n",
    "                df.shape, \\\n",
    "                df[list(df.columns[0:3]) + list(df.columns[-3:])].iloc[[0,1,-2,-1]] \\\n",
    "               )) \n",
    "    \n",
    "    \n",
    "def print_dfdict_preview(df_dict):\n",
    "    \"\"\"Print preview of dataframes within a dictionary.\"\"\"\n",
    "    print('\\nHead & Tail of DataFrame rows & columns:\\n')\n",
    "    [print_df_preview(dfname, df) for dfname, df in df_dict.items()]\n",
    "    "
   ]
  },
  {
   "cell_type": "markdown",
   "metadata": {},
   "source": [
    "### 1. Load CSV file data into dictionary of dataframes.\n",
    "\n",
    "TODO: do not hardcode 'Data' directory"
   ]
  },
  {
   "cell_type": "code",
   "execution_count": 3,
   "metadata": {},
   "outputs": [],
   "source": [
    "datasets_di = {}  # dictionary of dataframes of loaded data\n",
    "\n",
    "# Load .csv files\n",
    "for fullname in glob.glob('Data/*.csv'):\n",
    "    # extract filename w/o path or extension\n",
    "    filename = fullname.rsplit('.csv')[0].split('/')[-1]\n",
    "    datasets_di[filename] = pd.read_csv(fullname)\n"
   ]
  },
  {
   "cell_type": "markdown",
   "metadata": {},
   "source": [
    "First, find the CSV files. For now, they are in an hardcoded list of directories."
   ]
  },
  {
   "cell_type": "markdown",
   "metadata": {},
   "source": [
    "Create dictionary of dataframes."
   ]
  },
  {
   "cell_type": "markdown",
   "metadata": {},
   "source": [
    "### 3. Inspect the data."
   ]
  },
  {
   "cell_type": "code",
   "execution_count": 4,
   "metadata": {},
   "outputs": [
    {
     "name": "stdout",
     "output_type": "stream",
     "text": [
      "\n",
      "Dataframe: life_expectancy_years\n",
      "\n",
      "<class 'pandas.core.frame.DataFrame'>\n",
      "RangeIndex: 187 entries, 0 to 186\n",
      "Columns: 220 entries, geo to 2018\n",
      "dtypes: float64(219), object(1)\n",
      "memory usage: 321.5+ KB\n",
      "None\n",
      "==================================================\n",
      "\n",
      "Dataframe: hdi_human_development_index\n",
      "\n",
      "<class 'pandas.core.frame.DataFrame'>\n",
      "RangeIndex: 187 entries, 0 to 186\n",
      "Columns: 27 entries, geo to 2015\n",
      "dtypes: float64(26), object(1)\n",
      "memory usage: 39.5+ KB\n",
      "None\n",
      "==================================================\n"
     ]
    }
   ],
   "source": [
    "inspect_di_df(datasets_di)"
   ]
  },
  {
   "cell_type": "markdown",
   "metadata": {},
   "source": [
    "#### Observations:\n",
    "* Column 1 (country) are inconsistently named ('geo' and 'country')\n",
    "* Year columns have inconsistent datatypes (float64 and int64)\n",
    "\n",
    "Preview a few rows & columns of each dataframe (there are likely 'too many' columns to view easily)."
   ]
  },
  {
   "cell_type": "code",
   "execution_count": 5,
   "metadata": {},
   "outputs": [
    {
     "name": "stdout",
     "output_type": "stream",
     "text": [
      "\n",
      "Head & Tail of DataFrame rows & columns:\n",
      "\n",
      "\n",
      "==================================================\n",
      "life_expectancy_years (187, 220) :\n",
      "\n",
      "             geo  1800  1801  2016  2017  2018\n",
      "0    Afghanistan  28.2  28.2  58.0  58.4  58.7\n",
      "1        Albania  35.4  35.4  77.7  77.9  78.0\n",
      "185       Zambia  32.6  32.6  58.8  59.1  59.5\n",
      "186     Zimbabwe  33.7  33.7  59.3  59.8  60.2\n",
      "\n",
      "==================================================\n",
      "hdi_human_development_index (187, 27) :\n",
      "\n",
      "             geo   1990   1991   2013   2014   2015\n",
      "0    Afghanistan  0.295  0.300  0.476  0.479  0.479\n",
      "1        Albania  0.635  0.618  0.761  0.762  0.764\n",
      "185       Zambia  0.398  0.396  0.570  0.576  0.579\n",
      "186     Zimbabwe  0.499  0.501  0.498  0.507  0.516\n"
     ]
    }
   ],
   "source": [
    "print_dfdict_preview(datasets_di)"
   ]
  },
  {
   "cell_type": "markdown",
   "metadata": {},
   "source": [
    "#### Observations:\n",
    "* There are a variety of year ranges between df's\n",
    "* There are a variety of country sets between df's\n",
    "* Some values are Null (NaN)\n",
    "* Some values are zero (0)"
   ]
  },
  {
   "cell_type": "markdown",
   "metadata": {},
   "source": [
    "---\n",
    "## Data Cleaning\n",
    "Clean the datasets to make it ready for analysis.\n",
    "\n",
    "First, create metadata `meta_df` to itemize our data sets and track changes to them. Then:\n",
    "\n",
    "### Clean\n",
    "\n",
    "1. Simplify dataframe names\n",
    "2. Rename and index columns\n",
    "1. Standardize datatypes (within each dataframe)\n",
    "\n",
    "### Trim\n",
    "\n",
    " \n",
    " **Zeros and NaN**\n",
    " \n",
    " Zero values are assumed to be years in which a statistic for a <br>\n",
    " country was not gathered. Zeros can skew the data when calculating <br>\n",
    " aggregates. For this reason, reset zero values to NaN.\n",
    " \n",
    " **Countries**\n",
    " \n",
    " Not all dataframes contain the same set of countries.  Avoid <br>\n",
    "attempting to draw correlation between country statistics when not all <br>\n",
    "countries have recorded statistics by trimming dataframes so they share <br>\n",
    "a common set of countries.\n",
    "\n",
    " **Years**: Not all dataframes contain the same range of years. <br>\n",
    " Trim dataframes so they share a common range of years for consistent <br>\n",
    " analysis."
   ]
  },
  {
   "cell_type": "code",
   "execution_count": 6,
   "metadata": {},
   "outputs": [],
   "source": [
    "# Create backup\n",
    "datasets_di_backup = datasets_di"
   ]
  },
  {
   "cell_type": "markdown",
   "metadata": {},
   "source": [
    "### Create Metadata of data sets"
   ]
  },
  {
   "cell_type": "code",
   "execution_count": 7,
   "metadata": {},
   "outputs": [
    {
     "data": {
      "text/html": [
       "<div>\n",
       "<style scoped>\n",
       "    .dataframe tbody tr th:only-of-type {\n",
       "        vertical-align: middle;\n",
       "    }\n",
       "\n",
       "    .dataframe tbody tr th {\n",
       "        vertical-align: top;\n",
       "    }\n",
       "\n",
       "    .dataframe thead th {\n",
       "        text-align: right;\n",
       "    }\n",
       "</style>\n",
       "<table border=\"1\" class=\"dataframe\">\n",
       "  <thead>\n",
       "    <tr style=\"text-align: right;\">\n",
       "      <th></th>\n",
       "      <th>dataframe</th>\n",
       "    </tr>\n",
       "  </thead>\n",
       "  <tbody>\n",
       "    <tr>\n",
       "      <th>0</th>\n",
       "      <td>life_expectancy_years</td>\n",
       "    </tr>\n",
       "    <tr>\n",
       "      <th>1</th>\n",
       "      <td>hdi_human_development_index</td>\n",
       "    </tr>\n",
       "  </tbody>\n",
       "</table>\n",
       "</div>"
      ],
      "text/plain": [
       "                     dataframe\n",
       "0        life_expectancy_years\n",
       "1  hdi_human_development_index"
      ]
     },
     "execution_count": 7,
     "metadata": {},
     "output_type": "execute_result"
    }
   ],
   "source": [
    "meta_df = pd.DataFrame([dfname for dfname in datasets_di.keys()], \\\n",
    "                       columns=['dataframe'])\n",
    "meta_df"
   ]
  },
  {
   "cell_type": "markdown",
   "metadata": {},
   "source": [
    "### Clean 1: simplify dataframe names\n",
    "Dataframes were named with CSV filenames, which are long and wordy. <br>\n",
    "Create shorter aliases in `meta_df`.  "
   ]
  },
  {
   "cell_type": "markdown",
   "metadata": {},
   "source": [
    "First, create an alias dictionary. Prompt user for each alias, offer a default ..."
   ]
  },
  {
   "cell_type": "code",
   "execution_count": 8,
   "metadata": {},
   "outputs": [],
   "source": [
    "alias_di = {}"
   ]
  },
  {
   "cell_type": "markdown",
   "metadata": {},
   "source": [
    "For each df, prompt for alias, default = first word delimited by underscore\n",
    "(For now, just accept default. TODO find some other solution to too-long df names)"
   ]
  },
  {
   "cell_type": "code",
   "execution_count": 9,
   "metadata": {},
   "outputs": [
    {
     "name": "stdout",
     "output_type": "stream",
     "text": [
      "\n",
      "Enter alias for each dataframe (press enter to accept default):\n",
      "\n"
     ]
    }
   ],
   "source": [
    "print('\\nEnter alias for each dataframe (press enter to accept default):\\n')\n",
    "for dfname in datasets_di.keys():\n",
    "    this_alias = '_'.join(dfname.split('_', 2)[:2])\n",
    "    #this_alias = input('{}: ({})'.format(dfname, this_alias)) or this_alias\n",
    "    alias_di[dfname] = this_alias\n",
    "    #print('\"'+'\\n\"'.join(str(dfname)+'\":\"'+str(dfname).split(\"_\")[0]+'\",'))"
   ]
  },
  {
   "cell_type": "code",
   "execution_count": 10,
   "metadata": {},
   "outputs": [
    {
     "name": "stdout",
     "output_type": "stream",
     "text": [
      "{'life_expectancy_years': 'life_expectancy', 'hdi_human_development_index': 'hdi_human'}\n"
     ]
    }
   ],
   "source": [
    "print(alias_di)"
   ]
  },
  {
   "cell_type": "markdown",
   "metadata": {},
   "source": [
    "Map the dataframe aliases to `meta_df` dataframe names and index on it."
   ]
  },
  {
   "cell_type": "code",
   "execution_count": 11,
   "metadata": {},
   "outputs": [
    {
     "data": {
      "text/html": [
       "<div>\n",
       "<style scoped>\n",
       "    .dataframe tbody tr th:only-of-type {\n",
       "        vertical-align: middle;\n",
       "    }\n",
       "\n",
       "    .dataframe tbody tr th {\n",
       "        vertical-align: top;\n",
       "    }\n",
       "\n",
       "    .dataframe thead th {\n",
       "        text-align: right;\n",
       "    }\n",
       "</style>\n",
       "<table border=\"1\" class=\"dataframe\">\n",
       "  <thead>\n",
       "    <tr style=\"text-align: right;\">\n",
       "      <th></th>\n",
       "      <th>dataframe</th>\n",
       "    </tr>\n",
       "    <tr>\n",
       "      <th>statistic</th>\n",
       "      <th></th>\n",
       "    </tr>\n",
       "  </thead>\n",
       "  <tbody>\n",
       "    <tr>\n",
       "      <th>life_expectancy</th>\n",
       "      <td>life_expectancy_years</td>\n",
       "    </tr>\n",
       "    <tr>\n",
       "      <th>hdi_human</th>\n",
       "      <td>hdi_human_development_index</td>\n",
       "    </tr>\n",
       "  </tbody>\n",
       "</table>\n",
       "</div>"
      ],
      "text/plain": [
       "                                   dataframe\n",
       "statistic                                   \n",
       "life_expectancy        life_expectancy_years\n",
       "hdi_human        hdi_human_development_index"
      ]
     },
     "execution_count": 11,
     "metadata": {},
     "output_type": "execute_result"
    }
   ],
   "source": [
    "meta_df['statistic'] = meta_df['dataframe'].map(alias_di)\n",
    "meta_df.set_index('statistic', inplace=True)\n",
    "meta_df"
   ]
  },
  {
   "cell_type": "markdown",
   "metadata": {},
   "source": [
    "Now rename dataframes using the aliases ..."
   ]
  },
  {
   "cell_type": "markdown",
   "metadata": {},
   "source": [
    "create list original dataframe names"
   ]
  },
  {
   "cell_type": "code",
   "execution_count": 12,
   "metadata": {},
   "outputs": [],
   "source": [
    "dflist = list(datasets_di.keys())"
   ]
  },
  {
   "cell_type": "markdown",
   "metadata": {},
   "source": [
    "rename dataframes with their statistic name (mapped in meta_df)"
   ]
  },
  {
   "cell_type": "code",
   "execution_count": 13,
   "metadata": {},
   "outputs": [],
   "source": [
    "for df in dflist:\n",
    "    datasets_di[meta_df[meta_df['dataframe'] == df].index[0]] = datasets_di.pop(df)"
   ]
  },
  {
   "cell_type": "markdown",
   "metadata": {},
   "source": [
    "Verify new dataframe (statistic) names"
   ]
  },
  {
   "cell_type": "code",
   "execution_count": 14,
   "metadata": {},
   "outputs": [
    {
     "data": {
      "text/plain": [
       "['life_expectancy', 'hdi_human']"
      ]
     },
     "execution_count": 14,
     "metadata": {},
     "output_type": "execute_result"
    }
   ],
   "source": [
    "list(datasets_di.keys())"
   ]
  },
  {
   "cell_type": "markdown",
   "metadata": {},
   "source": [
    "### Clean 2: Rename and index columns\n",
    "\n",
    "Dataframes contain a column for country name, followed by a sequence of year columns. \n",
    "\n",
    "Standardize the name of the country column to 'country' then index on it."
   ]
  },
  {
   "cell_type": "code",
   "execution_count": 15,
   "metadata": {},
   "outputs": [],
   "source": [
    "# function to rename/reindex\n",
    "f = lambda df: (df.rename(columns={'geo':'country'}).set_index('country'))\n",
    "\n",
    "for dfname in list(datasets_di.keys()):\n",
    "    datasets_di[dfname] = f(datasets_di[dfname])"
   ]
  },
  {
   "cell_type": "markdown",
   "metadata": {},
   "source": [
    "Confirm all indexes are 'country' <br>\n",
    "TODO: add error handling procedures"
   ]
  },
  {
   "cell_type": "code",
   "execution_count": 16,
   "metadata": {},
   "outputs": [
    {
     "name": "stdout",
     "output_type": "stream",
     "text": [
      "Are all dataframe indexes named \"country\"?\n"
     ]
    },
    {
     "data": {
      "text/plain": [
       "True"
      ]
     },
     "execution_count": 16,
     "metadata": {},
     "output_type": "execute_result"
    }
   ],
   "source": [
    "print('Are all dataframe indexes named \"country\"?')\n",
    "'country' == np.unique(list(map(lambda k: datasets_di[k].index.name,(k for k in datasets_di.keys()))))[0]"
   ]
  },
  {
   "cell_type": "markdown",
   "metadata": {},
   "source": [
    "### Clean 3: Standardize datatypes"
   ]
  },
  {
   "cell_type": "markdown",
   "metadata": {},
   "source": [
    "First discover what each dataframe's datatypes should be: float or integer. For example, the number of murders or earthquakes in a year will be integers, while percentage values will be floats. Rely on the panda data loaders which attempted to discover the data types. Default to integer unless any floats were detected."
   ]
  },
  {
   "cell_type": "code",
   "execution_count": 17,
   "metadata": {},
   "outputs": [],
   "source": [
    "for k in datasets_di.keys():\n",
    "    # TODO find a sexier way to code this:\n",
    "    # If there are both floats and integers, change integers to floats.\n",
    "    float_count = len(datasets_di[k].select_dtypes(include=[np.float]).count())\n",
    "    integer_count = len(datasets_di[k].select_dtypes(include=[np.integer]).count())\n",
    "    if (integer_count > 0 and float_count > 0):\n",
    "        datasets_di[k] = datasets_di[k].astype(float)"
   ]
  },
  {
   "cell_type": "code",
   "execution_count": 18,
   "metadata": {},
   "outputs": [
    {
     "name": "stdout",
     "output_type": "stream",
     "text": [
      "\n",
      "Dataframe: life_expectancy\n",
      "\n",
      "<class 'pandas.core.frame.DataFrame'>\n",
      "Index: 187 entries, Afghanistan to Zimbabwe\n",
      "Columns: 219 entries, 1800 to 2018\n",
      "dtypes: float64(219)\n",
      "memory usage: 321.4+ KB\n",
      "None\n",
      "==================================================\n",
      "\n",
      "Dataframe: hdi_human\n",
      "\n",
      "<class 'pandas.core.frame.DataFrame'>\n",
      "Index: 187 entries, Afghanistan to Zimbabwe\n",
      "Columns: 26 entries, 1990 to 2015\n",
      "dtypes: float64(26)\n",
      "memory usage: 39.4+ KB\n",
      "None\n",
      "==================================================\n"
     ]
    }
   ],
   "source": [
    "inspect_di_df(datasets_di)"
   ]
  },
  {
   "cell_type": "markdown",
   "metadata": {},
   "source": [
    "### Trim\n",
    "Backup datasets_di before trimming"
   ]
  },
  {
   "cell_type": "code",
   "execution_count": 19,
   "metadata": {},
   "outputs": [],
   "source": [
    "datasets_di_backup = datasets_di.copy()"
   ]
  },
  {
   "cell_type": "markdown",
   "metadata": {},
   "source": [
    "#### Zeros and NaN - Cleanup<br>\n",
    "> TODO: Rethink logic below. Some datasets include events counts \n",
    "that may not happen every year, such as environmental disasters. \n",
    "Therefore, zero means zero, not 'unknown' or missing data.\n",
    "\n",
    "Any Zero values are assumed to be placeholders for missing data. <br>\n",
    "Since zero values can inadvertently skew aggregate calculations, <br>\n",
    "reset them to NaN (null).<br>\n",
    "<br>\n",
    "Afterwards, make sure there are now no rows completely empty."
   ]
  },
  {
   "cell_type": "markdown",
   "metadata": {},
   "source": [
    "Functions for Cleanup"
   ]
  },
  {
   "cell_type": "code",
   "execution_count": 20,
   "metadata": {},
   "outputs": [],
   "source": [
    "def print_zeros(dfname, df):\n",
    "    \"\"\"Return False if no zeros, True of any are found. Print columns and rows with Zero values.\"\"\"\n",
    "    result = False\n",
    "    zero_count = (df[df.columns]==0).any(axis=1).sum()\n",
    "    if zero_count:\n",
    "        print('\\n{}\\n{}:'.format('='*50, dfname))\n",
    "        print('{}\\n'.format(df[df.isin([0]).any(axis=1)]))\n",
    "        result = True\n",
    "    return result\n",
    "            "
   ]
  },
  {
   "cell_type": "code",
   "execution_count": 21,
   "metadata": {},
   "outputs": [],
   "source": [
    "def print_if_all_nulls(df_dict):\n",
    "    \"\"\"Return None. Print report, listing any dataframes that have rows containing only null values.\"\"\"\n",
    "    found = False\n",
    "    for dfname, df in datasets_di.items():\n",
    "        if pd.isnull(df).all(1).any():\n",
    "            print('{} has row with all nulls.'.format(dfname))\n",
    "            found = True\n",
    "    if not found:\n",
    "        print('No empty rows.')\n",
    "    \n",
    "    return None"
   ]
  },
  {
   "cell_type": "markdown",
   "metadata": {},
   "source": [
    "Print any Zero values ..."
   ]
  },
  {
   "cell_type": "code",
   "execution_count": 22,
   "metadata": {},
   "outputs": [
    {
     "name": "stdout",
     "output_type": "stream",
     "text": [
      "DataFrame Rows with Zero Values:\n",
      "\n",
      "==================================================\n",
      "life_expectancy:\n",
      "                  1800  1801  1802  1803  1804  1805  1806  1807  1808  1809  \\\n",
      "country                                                                        \n",
      "Andorra            0.0   0.0   0.0   0.0   0.0   0.0   0.0   0.0   0.0   0.0   \n",
      "Dominica           0.0   0.0   0.0   0.0   0.0   0.0   0.0   0.0   0.0   0.0   \n",
      "Marshall Islands   0.0   0.0   0.0   0.0   0.0   0.0   0.0   0.0   0.0   0.0   \n",
      "\n",
      "                  ...   2009  2010  2011  2012  2013  2014  2015  2016  2017  \\\n",
      "country           ...                                                          \n",
      "Andorra           ...   82.7  82.7  82.6  82.6  82.6  82.6  82.5  82.5   0.0   \n",
      "Dominica          ...   73.4  73.0  73.0  72.9  72.7  72.7  71.7  73.0   0.0   \n",
      "Marshall Islands  ...   63.5  63.7  63.9  64.1  64.3  64.5  64.7  65.0   0.0   \n",
      "\n",
      "                  2018  \n",
      "country                 \n",
      "Andorra            NaN  \n",
      "Dominica           NaN  \n",
      "Marshall Islands   NaN  \n",
      "\n",
      "[3 rows x 219 columns]\n",
      "\n",
      "\n",
      "==================================================\n",
      "hdi_human:\n",
      "                                1990  1991  1992  1993  1994   1995   1996  \\\n",
      "country                                                                      \n",
      "Andorra                          0.0   0.0   0.0   0.0   0.0  0.000  0.000   \n",
      "Angola                           0.0   0.0   0.0   0.0   0.0  0.000  0.000   \n",
      "Antigua and Barbuda              0.0   0.0   0.0   0.0   0.0  0.000  0.000   \n",
      "Azerbaijan                       0.0   0.0   0.0   0.0   0.0  0.609  0.610   \n",
      "Bahamas                          0.0   0.0   0.0   0.0   0.0  0.000  0.000   \n",
      "Belarus                          0.0   0.0   0.0   0.0   0.0  0.655  0.659   \n",
      "Bhutan                           0.0   0.0   0.0   0.0   0.0  0.000  0.000   \n",
      "Bosnia and Herzegovina           0.0   0.0   0.0   0.0   0.0  0.000  0.000   \n",
      "Burkina Faso                     0.0   0.0   0.0   0.0   0.0  0.000  0.000   \n",
      "Cape Verde                       0.0   0.0   0.0   0.0   0.0  0.000  0.000   \n",
      "Chad                             0.0   0.0   0.0   0.0   0.0  0.000  0.000   \n",
      "Comoros                          0.0   0.0   0.0   0.0   0.0  0.000  0.000   \n",
      "Djibouti                         0.0   0.0   0.0   0.0   0.0  0.353  0.351   \n",
      "Dominica                         0.0   0.0   0.0   0.0   0.0  0.000  0.000   \n",
      "Equatorial Guinea                0.0   0.0   0.0   0.0   0.0  0.000  0.000   \n",
      "Eritrea                          0.0   0.0   0.0   0.0   0.0  0.000  0.000   \n",
      "Ethiopia                         0.0   0.0   0.0   0.0   0.0  0.000  0.000   \n",
      "Georgia                          0.0   0.0   0.0   0.0   0.0  0.000  0.000   \n",
      "Grenada                          0.0   0.0   0.0   0.0   0.0  0.000  0.000   \n",
      "Guinea-Bissau                    0.0   0.0   0.0   0.0   0.0  0.000  0.000   \n",
      "Kiribati                         0.0   0.0   0.0   0.0   0.0  0.000  0.000   \n",
      "Lebanon                          0.0   0.0   0.0   0.0   0.0  0.000  0.000   \n",
      "Liberia                          0.0   0.0   0.0   0.0   0.0  0.000  0.000   \n",
      "Liechtenstein                    0.0   0.0   0.0   0.0   0.0  0.000  0.000   \n",
      "Macedonia, FYR                   0.0   0.0   0.0   0.0   0.0  0.000  0.000   \n",
      "Madagascar                       0.0   0.0   0.0   0.0   0.0  0.000  0.000   \n",
      "Maldives                         0.0   0.0   0.0   0.0   0.0  0.520  0.533   \n",
      "Micronesia, Fed. Sts.            0.0   0.0   0.0   0.0   0.0  0.000  0.000   \n",
      "Montenegro                       0.0   0.0   0.0   0.0   0.0  0.000  0.000   \n",
      "Nigeria                          0.0   0.0   0.0   0.0   0.0  0.000  0.000   \n",
      "Oman                             0.0   0.0   0.0   0.0   0.0  0.000  0.000   \n",
      "Palau                            0.0   0.0   0.0   0.0   0.0  0.000  0.000   \n",
      "Palestine                        0.0   0.0   0.0   0.0   0.0  0.000  0.000   \n",
      "Seychelles                       0.0   0.0   0.0   0.0   0.0  0.000  0.000   \n",
      "Solomon Islands                  0.0   0.0   0.0   0.0   0.0  0.000  0.000   \n",
      "South Sudan                      0.0   0.0   0.0   0.0   0.0  0.000  0.000   \n",
      "St. Kitts and Nevis              0.0   0.0   0.0   0.0   0.0  0.000  0.000   \n",
      "St. Lucia                        0.0   0.0   0.0   0.0   0.0  0.000  0.000   \n",
      "St. Vincent and the Grenadines   0.0   0.0   0.0   0.0   0.0  0.000  0.000   \n",
      "Suriname                         0.0   0.0   0.0   0.0   0.0  0.000  0.000   \n",
      "Timor-Leste                      0.0   0.0   0.0   0.0   0.0  0.000  0.000   \n",
      "Turkmenistan                     0.0   0.0   0.0   0.0   0.0  0.000  0.000   \n",
      "Uzbekistan                       0.0   0.0   0.0   0.0   0.0  0.000  0.000   \n",
      "Vanuatu                          0.0   0.0   0.0   0.0   0.0  0.000  0.000   \n",
      "\n",
      "                                 1997   1998   1999  ...     2006   2007  \\\n",
      "country                                              ...                   \n",
      "Andorra                         0.000  0.000  0.000  ...    0.000  0.000   \n",
      "Angola                          0.000  0.000  0.382  ...    0.454  0.468   \n",
      "Antigua and Barbuda             0.000  0.000  0.000  ...    0.781  0.786   \n",
      "Azerbaijan                      0.615  0.626  0.636  ...    0.708  0.719   \n",
      "Bahamas                         0.000  0.000  0.000  ...    0.790  0.791   \n",
      "Belarus                         0.666  0.670  0.675  ...    0.739  0.755   \n",
      "Bhutan                          0.000  0.000  0.000  ...    0.000  0.000   \n",
      "Bosnia and Herzegovina          0.000  0.000  0.000  ...    0.703  0.710   \n",
      "Burkina Faso                    0.000  0.000  0.000  ...    0.334  0.345   \n",
      "Cape Verde                      0.000  0.000  0.000  ...    0.602  0.615   \n",
      "Chad                            0.000  0.000  0.000  ...    0.306  0.338   \n",
      "Comoros                         0.000  0.000  0.000  ...    0.459  0.461   \n",
      "Djibouti                        0.356  0.358  0.361  ...    0.416  0.427   \n",
      "Dominica                        0.000  0.000  0.000  ...    0.711  0.714   \n",
      "Equatorial Guinea               0.000  0.000  0.000  ...    0.587  0.592   \n",
      "Eritrea                         0.000  0.000  0.000  ...    0.405  0.406   \n",
      "Ethiopia                        0.000  0.000  0.000  ...    0.362  0.378   \n",
      "Georgia                         0.000  0.000  0.000  ...    0.722  0.735   \n",
      "Grenada                         0.000  0.000  0.000  ...    0.000  0.000   \n",
      "Guinea-Bissau                   0.000  0.000  0.000  ...    0.394  0.398   \n",
      "Kiribati                        0.000  0.000  0.000  ...    0.574  0.572   \n",
      "Lebanon                         0.000  0.000  0.000  ...    0.731  0.740   \n",
      "Liberia                         0.000  0.000  0.338  ...    0.383  0.394   \n",
      "Liechtenstein                   0.000  0.000  0.000  ...    0.890  0.893   \n",
      "Macedonia, FYR                  0.000  0.000  0.000  ...    0.709  0.714   \n",
      "Madagascar                      0.000  0.000  0.000  ...    0.483  0.491   \n",
      "Maldives                        0.547  0.562  0.577  ...    0.632  0.641   \n",
      "Micronesia, Fed. Sts.           0.000  0.000  0.000  ...    0.625  0.628   \n",
      "Montenegro                      0.000  0.000  0.000  ...    0.762  0.774   \n",
      "Nigeria                         0.000  0.000  0.000  ...    0.477  0.481   \n",
      "Oman                            0.000  0.000  0.000  ...    0.753  0.765   \n",
      "Palau                           0.000  0.000  0.000  ...    0.765  0.767   \n",
      "Palestine                       0.000  0.000  0.000  ...    0.656  0.661   \n",
      "Seychelles                      0.000  0.000  0.000  ...    0.733  0.739   \n",
      "Solomon Islands                 0.000  0.000  0.455  ...    0.482  0.489   \n",
      "South Sudan                     0.000  0.000  0.000  ...    0.000  0.000   \n",
      "St. Kitts and Nevis             0.000  0.000  0.000  ...    0.000  0.000   \n",
      "St. Lucia                       0.000  0.000  0.000  ...    0.707  0.710   \n",
      "St. Vincent and the Grenadines  0.000  0.000  0.000  ...    0.702  0.704   \n",
      "Suriname                        0.000  0.000  0.000  ...    0.684  0.691   \n",
      "Timor-Leste                     0.000  0.000  0.000  ...    0.541  0.566   \n",
      "Turkmenistan                    0.000  0.000  0.000  ...    0.000  0.000   \n",
      "Uzbekistan                      0.000  0.000  0.000  ...    0.631  0.644   \n",
      "Vanuatu                         0.000  0.000  0.000  ...    0.579  0.582   \n",
      "\n",
      "                                 2008   2009   2010   2011   2012   2013  \\\n",
      "country                                                                    \n",
      "Andorra                         0.000  0.000  0.819  0.819  0.843  0.850   \n",
      "Angola                          0.480  0.488  0.495  0.508  0.523  0.527   \n",
      "Antigua and Barbuda             0.788  0.783  0.782  0.778  0.781  0.782   \n",
      "Azerbaijan                      0.728  0.737  0.741  0.742  0.745  0.752   \n",
      "Bahamas                         0.791  0.788  0.788  0.789  0.790  0.789   \n",
      "Belarus                         0.771  0.780  0.787  0.793  0.796  0.796   \n",
      "Bhutan                          0.000  0.000  0.572  0.581  0.589  0.596   \n",
      "Bosnia and Herzegovina          0.716  0.717  0.711  0.728  0.735  0.742   \n",
      "Burkina Faso                    0.356  0.365  0.377  0.384  0.392  0.398   \n",
      "Cape Verde                      0.621  0.627  0.632  0.636  0.643  0.643   \n",
      "Chad                            0.343  0.360  0.370  0.381  0.387  0.390   \n",
      "Comoros                         0.465  0.476  0.479  0.484  0.490  0.497   \n",
      "Djibouti                        0.436  0.441  0.451  0.460  0.464  0.467   \n",
      "Dominica                        0.720  0.721  0.722  0.722  0.721  0.724   \n",
      "Equatorial Guinea               0.590  0.589  0.580  0.583  0.586  0.582   \n",
      "Eritrea                         0.402  0.404  0.405  0.410  0.414  0.416   \n",
      "Ethiopia                        0.393  0.401  0.411  0.422  0.427  0.435   \n",
      "Georgia                         0.734  0.738  0.742  0.749  0.755  0.759   \n",
      "Grenada                         0.000  0.000  0.741  0.744  0.746  0.749   \n",
      "Guinea-Bissau                   0.401  0.405  0.410  0.416  0.415  0.419   \n",
      "Kiribati                        0.576  0.584  0.585  0.581  0.589  0.597   \n",
      "Lebanon                         0.746  0.752  0.758  0.763  0.766  0.763   \n",
      "Liberia                         0.400  0.403  0.406  0.416  0.419  0.426   \n",
      "Liechtenstein                   0.899  0.899  0.904  0.909  0.908  0.912   \n",
      "Macedonia, FYR                  0.730  0.732  0.735  0.739  0.741  0.743   \n",
      "Madagascar                      0.500  0.503  0.504  0.506  0.508  0.509   \n",
      "Maldives                        0.651  0.653  0.663  0.675  0.683  0.693   \n",
      "Micronesia, Fed. Sts.           0.629  0.633  0.638  0.640  0.641  0.639   \n",
      "Montenegro                      0.785  0.787  0.792  0.797  0.799  0.803   \n",
      "Nigeria                         0.487  0.492  0.500  0.507  0.514  0.521   \n",
      "Oman                            0.782  0.797  0.797  0.797  0.796  0.796   \n",
      "Palau                           0.770  0.770  0.770  0.775  0.779  0.782   \n",
      "Palestine                       0.656  0.667  0.669  0.674  0.684  0.678   \n",
      "Seychelles                      0.739  0.740  0.744  0.755  0.762  0.766   \n",
      "Solomon Islands                 0.494  0.492  0.497  0.505  0.509  0.512   \n",
      "South Sudan                     0.000  0.000  0.429  0.419  0.417  0.421   \n",
      "St. Kitts and Nevis             0.000  0.000  0.741  0.746  0.749  0.756   \n",
      "St. Lucia                       0.717  0.724  0.733  0.735  0.734  0.723   \n",
      "St. Vincent and the Grenadines  0.709  0.711  0.712  0.713  0.717  0.720   \n",
      "Suriname                        0.696  0.700  0.704  0.708  0.719  0.722   \n",
      "Timor-Leste                     0.599  0.599  0.607  0.618  0.620  0.612   \n",
      "Turkmenistan                    0.000  0.000  0.665  0.672  0.678  0.683   \n",
      "Uzbekistan                      0.651  0.657  0.664  0.673  0.681  0.690   \n",
      "Vanuatu                         0.589  0.590  0.591  0.592  0.591  0.596   \n",
      "\n",
      "                                 2014   2015  \n",
      "country                                       \n",
      "Andorra                         0.857  0.858  \n",
      "Angola                          0.531  0.533  \n",
      "Antigua and Barbuda             0.784  0.786  \n",
      "Azerbaijan                      0.758  0.759  \n",
      "Bahamas                         0.790  0.792  \n",
      "Belarus                         0.798  0.796  \n",
      "Bhutan                          0.604  0.607  \n",
      "Bosnia and Herzegovina          0.747  0.750  \n",
      "Burkina Faso                    0.399  0.402  \n",
      "Cape Verde                      0.646  0.648  \n",
      "Chad                            0.394  0.396  \n",
      "Comoros                         0.498  0.498  \n",
      "Djibouti                        0.470  0.473  \n",
      "Dominica                        0.724  0.726  \n",
      "Equatorial Guinea               0.582  0.592  \n",
      "Eritrea                         0.418  0.420  \n",
      "Ethiopia                        0.441  0.448  \n",
      "Georgia                         0.768  0.769  \n",
      "Grenada                         0.751  0.754  \n",
      "Guinea-Bissau                   0.421  0.424  \n",
      "Kiribati                        0.586  0.588  \n",
      "Lebanon                         0.763  0.763  \n",
      "Liberia                         0.427  0.427  \n",
      "Liechtenstein                   0.911  0.912  \n",
      "Macedonia, FYR                  0.746  0.748  \n",
      "Madagascar                      0.511  0.512  \n",
      "Maldives                        0.701  0.701  \n",
      "Micronesia, Fed. Sts.           0.637  0.638  \n",
      "Montenegro                      0.804  0.807  \n",
      "Nigeria                         0.525  0.527  \n",
      "Oman                            0.795  0.796  \n",
      "Palau                           0.783  0.788  \n",
      "Palestine                       0.678  0.684  \n",
      "Seychelles                      0.781  0.782  \n",
      "Solomon Islands                 0.514  0.515  \n",
      "South Sudan                     0.421  0.418  \n",
      "St. Kitts and Nevis             0.762  0.765  \n",
      "St. Lucia                       0.735  0.735  \n",
      "St. Vincent and the Grenadines  0.720  0.722  \n",
      "Suriname                        0.723  0.725  \n",
      "Timor-Leste                     0.603  0.606  \n",
      "Turkmenistan                    0.688  0.692  \n",
      "Uzbekistan                      0.697  0.701  \n",
      "Vanuatu                         0.598  0.597  \n",
      "\n",
      "[44 rows x 26 columns]\n",
      "\n"
     ]
    }
   ],
   "source": [
    "print('DataFrame Rows with Zero Values:')\n",
    "[print_zeros(dfname, df) for dfname, df in datasets_di.items()];"
   ]
  },
  {
   "cell_type": "markdown",
   "metadata": {},
   "source": [
    "Translate all Zeros into NaNs ...<br>\n",
    "Replace zeros with NaN, then drop any rows where all values are NaN. "
   ]
  },
  {
   "cell_type": "code",
   "execution_count": 23,
   "metadata": {},
   "outputs": [],
   "source": [
    "for dfname, df in datasets_di.items():\n",
    "    datasets_di[dfname] = datasets_di[dfname].replace({0:np.nan, 0.0:np.nan})\n",
    "    datasets_di[dfname] = datasets_di[dfname].dropna(how='all')"
   ]
  },
  {
   "cell_type": "markdown",
   "metadata": {},
   "source": [
    "Verify there are no empty rows."
   ]
  },
  {
   "cell_type": "code",
   "execution_count": 24,
   "metadata": {},
   "outputs": [
    {
     "name": "stdout",
     "output_type": "stream",
     "text": [
      "No empty rows.\n"
     ]
    }
   ],
   "source": [
    "print_if_all_nulls(datasets_di)"
   ]
  },
  {
   "cell_type": "markdown",
   "metadata": {},
   "source": [
    "TODO: more error handling here ... handle any non-empty rows.<br>\n",
    "<br>\n",
    "Start trimming ..."
   ]
  },
  {
   "cell_type": "markdown",
   "metadata": {},
   "source": [
    "#### Countries - Trim<br>\n",
    "Make sure dataframes share a common set of countries (inner join) by<br>\n",
    "trimming any countries not shared by all dataframes.<br>\n",
    "<br>\n",
    "First, identify the countries to be trimmed and list them in `meta_df` for reference.<br>\n",
    "Create list of common countries."
   ]
  },
  {
   "cell_type": "code",
   "execution_count": 25,
   "metadata": {},
   "outputs": [],
   "source": [
    "dflist = list(datasets_di.values())\n",
    "common_countries_list = pd.concat(dflist, axis=1, join='inner').index"
   ]
  },
  {
   "cell_type": "code",
   "execution_count": 26,
   "metadata": {},
   "outputs": [
    {
     "data": {
      "text/plain": [
       "[                                1800  1801  1802  1803  1804  1805  1806  \\\n",
       " country                                                                    \n",
       " Afghanistan                     28.2  28.2  28.2  28.2  28.2  28.2  28.1   \n",
       " Albania                         35.4  35.4  35.4  35.4  35.4  35.4  35.4   \n",
       " Algeria                         28.8  28.8  28.8  28.8  28.8  28.8  28.8   \n",
       " Andorra                          NaN   NaN   NaN   NaN   NaN   NaN   NaN   \n",
       " Angola                          27.0  27.0  27.0  27.0  27.0  27.0  27.0   \n",
       " Antigua and Barbuda             33.5  33.5  33.5  33.5  33.5  33.5  33.5   \n",
       " Argentina                       33.2  33.2  33.2  33.2  33.2  33.2  33.2   \n",
       " Armenia                         34.0  34.0  34.0  34.0  34.0  34.0  34.0   \n",
       " Australia                       34.0  34.0  34.0  34.0  34.0  34.0  34.0   \n",
       " Austria                         34.4  34.4  34.4  34.4  34.4  34.4  34.4   \n",
       " Azerbaijan                      29.2  29.2  29.2  29.2  29.2  29.2  29.2   \n",
       " Bahamas                         35.2  35.2  35.2  35.2  35.2  35.2  35.2   \n",
       " Bahrain                         30.3  30.3  30.3  30.3  30.3  30.3  30.3   \n",
       " Bangladesh                      25.5  25.5  25.5  25.5  25.5  25.5  25.5   \n",
       " Barbados                        32.1  32.1  32.1  32.1  32.1  32.1  32.1   \n",
       " Belarus                         36.2  36.2  36.2  36.2  36.2  36.2  36.2   \n",
       " Belgium                         40.0  40.0  40.0  40.0  40.0  40.0  40.0   \n",
       " Belize                          26.5  26.5  26.5  26.5  26.5  26.5  26.5   \n",
       " Benin                           31.0  31.0  31.0  31.0  31.0  31.0  31.0   \n",
       " Bhutan                          28.8  28.8  28.8  28.8  28.8  28.8  28.8   \n",
       " Bolivia                         33.0  33.0  33.0  33.0  33.0  33.0  33.0   \n",
       " Bosnia and Herzegovina          35.1  35.1  35.1  35.1  35.1  35.1  35.1   \n",
       " Botswana                        33.6  33.6  33.6  33.6  33.6  33.6  33.6   \n",
       " Brazil                          32.0  32.0  32.0  32.0  32.0  32.0  32.0   \n",
       " Brunei                          29.2  29.2  29.2  29.2  29.2  29.2  29.2   \n",
       " Bulgaria                        35.8  35.8  35.9  35.9  36.0  36.0  36.1   \n",
       " Burkina Faso                    29.2  29.2  29.2  29.2  29.2  29.2  29.2   \n",
       " Burundi                         31.5  31.5  31.5  31.5  31.5  31.5  31.5   \n",
       " Cambodia                        35.0  35.0  35.0  35.0  35.0  35.0  35.0   \n",
       " Cameroon                        28.8  28.8  28.8  28.8  28.8  28.8  28.8   \n",
       " ...                              ...   ...   ...   ...   ...   ...   ...   \n",
       " St. Vincent and the Grenadines  26.0  26.0  26.0  26.0  26.0  26.0  26.0   \n",
       " Sudan                           31.4  31.4  31.4  31.4  31.4  31.4  31.4   \n",
       " Suriname                        32.9  32.9  32.9  32.9  32.9  32.9  32.9   \n",
       " Swaziland                       32.3  32.3  32.3  32.3  32.3  32.3  32.3   \n",
       " Sweden                          32.2  36.9  40.2  40.3  39.7  41.0  36.2   \n",
       " Switzerland                     38.0  38.0  38.0  38.0  38.0  38.0  38.0   \n",
       " Syria                           31.1  31.1  31.1  31.1  31.1  31.1  31.1   \n",
       " Tajikistan                      24.2  24.2  24.2  24.2  24.2  24.2  24.2   \n",
       " Tanzania                        32.2  32.2  32.2  32.2  32.2  32.2  32.2   \n",
       " Thailand                        30.4  30.4  30.4  30.4  30.4  30.4  30.4   \n",
       " Timor-Leste                     28.9  28.9  28.9  28.9  28.9  28.9  28.9   \n",
       " Togo                            31.3  31.3  31.3  31.3  31.3  31.3  31.3   \n",
       " Tonga                           28.2  28.2  28.2  28.2  28.2  28.2  28.2   \n",
       " Trinidad and Tobago             32.9  32.9  32.9  32.9  32.9  32.9  32.9   \n",
       " Tunisia                         28.8  28.8  28.8  28.8  28.8  28.8  28.8   \n",
       " Turkey                          35.0  35.0  35.0  35.0  35.0  35.0  35.0   \n",
       " Turkmenistan                    24.0  24.0  24.0  24.0  24.0  24.0  24.0   \n",
       " Uganda                          25.3  25.3  25.3  25.3  25.3  25.3  25.3   \n",
       " Ukraine                         36.6  36.6  36.6  36.6  36.6  36.6  36.6   \n",
       " United Arab Emirates            30.7  30.7  30.7  30.7  30.7  30.7  30.7   \n",
       " United Kingdom                  38.6  37.4  38.6  37.3  41.4  42.3  43.2   \n",
       " United States                   39.4  39.4  39.4  39.4  39.4  39.4  39.4   \n",
       " Uruguay                         32.9  32.9  32.9  32.9  32.9  32.9  32.9   \n",
       " Uzbekistan                      26.9  26.9  26.9  26.9  26.9  26.9  26.9   \n",
       " Vanuatu                         24.3  24.3  24.3  24.3  24.3  24.3  24.3   \n",
       " Venezuela                       32.2  32.2  32.2  32.2  32.2  32.2  32.2   \n",
       " Vietnam                         32.0  32.0  32.0  32.0  32.0  32.0  32.0   \n",
       " Yemen                           23.4  23.4  23.4  23.4  23.4  23.4  23.4   \n",
       " Zambia                          32.6  32.6  32.6  32.6  32.6  32.6  32.6   \n",
       " Zimbabwe                        33.7  33.7  33.7  33.7  33.7  33.7  33.7   \n",
       " \n",
       "                                 1807  1808  1809  ...   2009  2010  2011  \\\n",
       " country                                           ...                      \n",
       " Afghanistan                     28.1  28.1  28.1  ...   55.7  56.2  56.7   \n",
       " Albania                         35.4  35.4  35.4  ...   75.9  76.3  76.7   \n",
       " Algeria                         28.8  28.8  28.8  ...   76.3  76.5  76.7   \n",
       " Andorra                          NaN   NaN   NaN  ...   82.7  82.7  82.6   \n",
       " Angola                          27.0  27.0  27.0  ...   59.3  60.1  60.9   \n",
       " Antigua and Barbuda             33.5  33.5  33.5  ...   76.9  76.8  76.9   \n",
       " Argentina                       33.2  33.2  33.2  ...   75.7  75.8  76.0   \n",
       " Armenia                         34.0  34.0  34.0  ...   73.0  73.3  73.8   \n",
       " Australia                       34.0  34.0  34.0  ...   81.8  82.0  82.2   \n",
       " Austria                         34.4  34.4  34.4  ...   80.3  80.5  80.7   \n",
       " Azerbaijan                      29.2  29.2  29.2  ...   68.8  69.1  69.9   \n",
       " Bahamas                         35.2  35.2  35.2  ...   73.8  73.8  73.8   \n",
       " Bahrain                         30.3  30.3  30.3  ...   75.7  76.0  76.2   \n",
       " Bangladesh                      25.5  25.5  25.5  ...   70.1  70.4  71.0   \n",
       " Barbados                        32.1  32.1  32.1  ...   76.6  76.7  76.7   \n",
       " Belarus                         36.2  36.2  36.2  ...   70.3  70.4  70.7   \n",
       " Belgium                         40.1  40.1  40.1  ...   79.8  80.0  80.2   \n",
       " Belize                          26.5  26.5  26.5  ...   71.1  71.4  71.5   \n",
       " Benin                           31.0  31.0  31.0  ...   61.4  61.8  62.2   \n",
       " Bhutan                          28.8  28.8  28.8  ...   71.6  72.1  72.5   \n",
       " Bolivia                         33.0  33.0  33.0  ...   71.3  71.6  71.9   \n",
       " Bosnia and Herzegovina          35.1  35.1  35.1  ...   76.6  76.8  76.9   \n",
       " Botswana                        33.6  33.6  33.6  ...   54.9  57.1  58.9   \n",
       " Brazil                          32.0  32.0  32.0  ...   74.0  74.2  74.4   \n",
       " Brunei                          29.2  29.2  29.2  ...   76.9  77.1  77.0   \n",
       " Bulgaria                        36.1  36.1  36.2  ...   73.6  73.9  74.3   \n",
       " Burkina Faso                    29.2  29.2  29.2  ...   57.4  57.9  58.4   \n",
       " Burundi                         31.5  31.5  31.5  ...   57.1  57.7  58.2   \n",
       " Cambodia                        35.0  35.0  35.0  ...   65.7  66.1  66.6   \n",
       " Cameroon                        28.8  28.8  28.8  ...   56.8  57.3  57.7   \n",
       " ...                              ...   ...   ...  ...    ...   ...   ...   \n",
       " St. Vincent and the Grenadines  26.0  26.0  26.0  ...   71.7  71.6  71.7   \n",
       " Sudan                           31.4  31.4  31.4  ...   66.1  66.3  66.5   \n",
       " Suriname                        32.9  32.9  32.9  ...   70.2  70.3  70.5   \n",
       " Swaziland                       32.3  32.3  32.3  ...   45.6  47.0  48.9   \n",
       " Sweden                          38.8  30.1  26.9  ...   81.3  81.5  81.7   \n",
       " Switzerland                     38.0  38.0  38.0  ...   82.0  82.2  82.5   \n",
       " Syria                           31.1  31.1  31.1  ...   75.8  76.2  75.0   \n",
       " Tajikistan                      24.2  24.2  24.2  ...   69.3  69.6  69.9   \n",
       " Tanzania                        32.2  32.2  32.2  ...   58.6  59.3  59.9   \n",
       " Thailand                        30.4  30.4  30.4  ...   76.1  76.6  76.9   \n",
       " Timor-Leste                     28.9  28.9  28.9  ...   70.6  71.1  71.6   \n",
       " Togo                            31.3  31.3  31.3  ...   58.0  58.7  59.6   \n",
       " Tonga                           28.2  28.2  28.2  ...   68.0  69.9  70.0   \n",
       " Trinidad and Tobago             32.9  32.9  32.9  ...   72.5  72.6  72.7   \n",
       " Tunisia                         28.8  28.8  28.8  ...   76.7  76.9  77.0   \n",
       " Turkey                          35.0  35.0  35.0  ...   78.2  78.2  78.2   \n",
       " Turkmenistan                    24.0  24.0  24.0  ...   67.4  67.9  68.4   \n",
       " Uganda                          25.3  25.3  25.3  ...   56.0  56.8  57.7   \n",
       " Ukraine                         36.6  36.6  36.6  ...   69.6  70.4  71.1   \n",
       " United Arab Emirates            30.7  30.7  30.7  ...   76.6  76.5  76.5   \n",
       " United Kingdom                  40.0  40.4  41.7  ...   80.1  80.3  80.5   \n",
       " United States                   39.4  39.4  39.4  ...   78.6  78.7  78.8   \n",
       " Uruguay                         32.9  32.9  32.9  ...   76.3  76.4  76.4   \n",
       " Uzbekistan                      26.9  26.9  26.9  ...   68.4  68.8  69.0   \n",
       " Vanuatu                         24.3  24.3  24.3  ...   62.8  63.0  63.2   \n",
       " Venezuela                       32.2  32.2  32.2  ...   75.0  75.4  75.4   \n",
       " Vietnam                         32.0  32.0  32.0  ...   72.8  73.1  73.3   \n",
       " Yemen                           23.4  23.4  23.4  ...   67.0  67.5  67.7   \n",
       " Zambia                          32.6  32.6  32.6  ...   50.7  52.0  53.2   \n",
       " Zimbabwe                        33.7  33.7  33.7  ...   47.5  49.6  51.9   \n",
       " \n",
       "                                 2012  2013  2014  2015  2016  2017  2018  \n",
       " country                                                                   \n",
       " Afghanistan                     57.2  57.7  57.8  57.9  58.0  58.4  58.7  \n",
       " Albania                         77.0  77.2  77.4  77.6  77.7  77.9  78.0  \n",
       " Algeria                         76.8  77.0  77.1  77.3  77.4  77.6  77.9  \n",
       " Andorra                         82.6  82.6  82.6  82.5  82.5   NaN   NaN  \n",
       " Angola                          61.7  62.5  63.3  64.0  64.7  64.9  65.2  \n",
       " Antigua and Barbuda             77.0  77.3  77.1  77.2  77.3  77.4  77.6  \n",
       " Argentina                       76.1  76.2  76.4  76.5  76.7  76.8  77.0  \n",
       " Armenia                         74.3  75.0  75.4  75.4  75.7  75.8  76.0  \n",
       " Australia                       82.3  82.5  82.6  82.6  82.5  82.7  82.9  \n",
       " Austria                         80.9  81.1  81.3  81.4  81.5  81.7  81.8  \n",
       " Azerbaijan                      70.2  71.0  71.5  71.8  72.1  72.2  72.3  \n",
       " Bahamas                         73.7  73.7  73.8  73.6  73.8  74.0  74.1  \n",
       " Bahrain                         76.3  76.6  76.7  76.8  76.9  77.0  77.2  \n",
       " Bangladesh                      71.3  71.6  72.0  72.4  72.8  73.1  73.4  \n",
       " Barbados                        76.8  76.8  76.7  76.6  76.5  76.7  76.8  \n",
       " Belarus                         71.8  72.4  73.0  73.3  73.5  73.6  73.8  \n",
       " Belgium                         80.3  80.5  80.9  80.9  80.9  81.1  81.2  \n",
       " Belize                          71.6  71.7  71.8  71.9  72.0  72.2  72.5  \n",
       " Benin                           62.6  63.0  63.4  63.9  64.4  64.7  65.0  \n",
       " Bhutan                          72.9  73.2  73.5  73.8  74.1  74.5  74.8  \n",
       " Bolivia                         72.2  72.5  72.7  73.0  73.3  73.6  74.0  \n",
       " Bosnia and Herzegovina          77.0  77.2  77.2  77.4  77.6  77.8  77.9  \n",
       " Botswana                        60.5  62.4  63.7  64.6  65.5  66.3  66.9  \n",
       " Brazil                          74.7  74.9  75.0  75.2  75.3  75.5  75.7  \n",
       " Brunei                          76.9  76.9  76.9  76.9  77.0  77.2  77.4  \n",
       " Bulgaria                        74.7  74.9  75.0  75.0  75.1  75.2  75.3  \n",
       " Burkina Faso                    58.9  59.4  59.8  60.3  60.8  61.2  61.6  \n",
       " Burundi                         58.8  59.2  59.6  60.0  60.4  60.8  61.1  \n",
       " Cambodia                        67.2  67.6  68.0  68.3  68.7  69.0  69.3  \n",
       " Cameroon                        58.3  58.8  59.2  59.7  60.2  60.7  61.2  \n",
       " ...                              ...   ...   ...   ...   ...   ...   ...  \n",
       " St. Vincent and the Grenadines  71.6  71.3  71.5  71.6  71.8  71.9  72.0  \n",
       " Sudan                           66.8  67.0  67.6  68.0  68.3  68.5  68.8  \n",
       " Suriname                        70.7  70.8  71.0  71.2  71.4  71.5  71.6  \n",
       " Swaziland                       50.5  52.0  53.8  56.4  57.7  58.2  58.6  \n",
       " Sweden                          81.8  81.9  82.1  82.1  82.0  82.2  82.4  \n",
       " Switzerland                     82.6  82.7  83.0  83.1  83.1  83.3  83.5  \n",
       " Syria                           68.4  69.1  67.2  68.4  68.4  69.0  69.8  \n",
       " Tajikistan                      70.5  71.1  71.4  71.6  71.9  72.0  72.2  \n",
       " Tanzania                        60.7  61.8  62.6  63.5  64.3  64.9  65.5  \n",
       " Thailand                        77.2  77.3  77.5  77.6  77.8  78.0  78.2  \n",
       " Timor-Leste                     72.0  72.3  72.5  72.6  72.7  73.0  73.3  \n",
       " Togo                            60.4  60.9  61.5  62.1  62.6  62.9  63.1  \n",
       " Tonga                           70.0  70.1  70.2  70.3  70.4  70.6  70.7  \n",
       " Trinidad and Tobago             72.8  72.9  73.0  73.1  73.2  73.3  73.4  \n",
       " Tunisia                         77.1  77.2  77.3  77.4  77.5  77.7  78.0  \n",
       " Turkey                          78.6  78.4  78.8  79.0  79.1  79.3  79.6  \n",
       " Turkmenistan                    68.8  69.2  69.6  69.9  70.2  70.4  70.5  \n",
       " Uganda                          58.6  59.8  60.8  61.6  62.3  62.6  62.9  \n",
       " Ukraine                         71.1  71.3  71.7  71.9  72.0  72.2  72.3  \n",
       " United Arab Emirates            76.4  76.4  76.4  76.5  76.6  76.7  76.9  \n",
       " United Kingdom                  80.7  80.7  80.8  80.8  80.9  81.0  81.2  \n",
       " United States                   78.9  78.9  78.9  78.8  78.8  79.0  79.1  \n",
       " Uruguay                         76.5  76.7  77.0  77.1  77.3  77.4  77.6  \n",
       " Uzbekistan                      69.3  69.6  69.8  70.0  70.3  70.4  70.5  \n",
       " Vanuatu                         63.3  63.5  63.5  63.6  64.0  64.1  64.3  \n",
       " Venezuela                       75.3  75.4  75.5  75.5  75.5  75.7  75.9  \n",
       " Vietnam                         73.6  73.8  74.1  74.3  74.5  74.7  74.9  \n",
       " Yemen                           67.9  68.4  68.4  67.2  66.7  66.9  67.1  \n",
       " Zambia                          54.5  55.7  57.0  58.1  58.8  59.1  59.5  \n",
       " Zimbabwe                        54.1  55.6  57.0  58.3  59.3  59.8  60.2  \n",
       " \n",
       " [187 rows x 219 columns],\n",
       "                                  1990   1991   1992   1993   1994   1995  \\\n",
       " country                                                                    \n",
       " Afghanistan                     0.295  0.300  0.309  0.305  0.300  0.324   \n",
       " Albania                         0.635  0.618  0.603  0.608  0.616  0.628   \n",
       " Algeria                         0.577  0.581  0.587  0.591  0.595  0.600   \n",
       " Andorra                           NaN    NaN    NaN    NaN    NaN    NaN   \n",
       " Angola                            NaN    NaN    NaN    NaN    NaN    NaN   \n",
       " Antigua and Barbuda               NaN    NaN    NaN    NaN    NaN    NaN   \n",
       " Argentina                       0.705  0.713  0.720  0.725  0.728  0.731   \n",
       " Armenia                         0.634  0.628  0.595  0.593  0.597  0.603   \n",
       " Australia                       0.866  0.867  0.871  0.874  0.876  0.885   \n",
       " Austria                         0.794  0.798  0.804  0.806  0.812  0.816   \n",
       " Azerbaijan                        NaN    NaN    NaN    NaN    NaN  0.609   \n",
       " Bahamas                           NaN    NaN    NaN    NaN    NaN    NaN   \n",
       " Bahrain                         0.745  0.751  0.757  0.765  0.768  0.775   \n",
       " Bangladesh                      0.386  0.393  0.400  0.408  0.415  0.423   \n",
       " Barbados                        0.714  0.716  0.716  0.720  0.725  0.729   \n",
       " Belarus                           NaN    NaN    NaN    NaN    NaN  0.655   \n",
       " Belgium                         0.805  0.809  0.824  0.838  0.844  0.851   \n",
       " Belize                          0.648  0.651  0.655  0.656  0.660  0.662   \n",
       " Benin                           0.345  0.351  0.355  0.361  0.365  0.371   \n",
       " Bhutan                            NaN    NaN    NaN    NaN    NaN    NaN   \n",
       " Bolivia                         0.535  0.543  0.549  0.556  0.564  0.571   \n",
       " Bosnia and Herzegovina            NaN    NaN    NaN    NaN    NaN    NaN   \n",
       " Botswana                        0.585  0.592  0.590  0.587  0.581  0.580   \n",
       " Brazil                          0.611  0.615  0.622  0.631  0.640  0.649   \n",
       " Brunei                          0.782  0.787  0.792  0.797  0.801  0.805   \n",
       " Bulgaria                        0.700  0.696  0.696  0.696  0.697  0.702   \n",
       " Burkina Faso                      NaN    NaN    NaN    NaN    NaN    NaN   \n",
       " Burundi                         0.270  0.273  0.271  0.271  0.270  0.266   \n",
       " Cambodia                        0.357  0.362  0.366  0.368  0.377  0.379   \n",
       " Cameroon                        0.444  0.442  0.440  0.437  0.435  0.436   \n",
       " ...                               ...    ...    ...    ...    ...    ...   \n",
       " St. Vincent and the Grenadines    NaN    NaN    NaN    NaN    NaN    NaN   \n",
       " Sudan                           0.331  0.337  0.345  0.352  0.358  0.365   \n",
       " Suriname                          NaN    NaN    NaN    NaN    NaN    NaN   \n",
       " Swaziland                       0.548  0.550  0.551  0.549  0.544  0.543   \n",
       " Sweden                          0.815  0.817  0.820  0.839  0.848  0.856   \n",
       " Switzerland                     0.831  0.833  0.835  0.840  0.842  0.846   \n",
       " Syria                           0.556  0.560  0.566  0.569  0.574  0.577   \n",
       " Tajikistan                      0.616  0.611  0.589  0.571  0.549  0.539   \n",
       " Tanzania                        0.370  0.370  0.368  0.368  0.367  0.368   \n",
       " Thailand                        0.574  0.583  0.590  0.598  0.604  0.611   \n",
       " Timor-Leste                       NaN    NaN    NaN    NaN    NaN    NaN   \n",
       " Togo                            0.404  0.407  0.399  0.389  0.395  0.408   \n",
       " Tonga                           0.648  0.654  0.657  0.661  0.667  0.671   \n",
       " Trinidad and Tobago             0.670  0.671  0.671  0.673  0.677  0.682   \n",
       " Tunisia                         0.569  0.575  0.583  0.590  0.600  0.608   \n",
       " Turkey                          0.576  0.580  0.586  0.594  0.596  0.604   \n",
       " Turkmenistan                      NaN    NaN    NaN    NaN    NaN    NaN   \n",
       " Uganda                          0.309  0.310  0.303  0.311  0.314  0.320   \n",
       " Ukraine                         0.706  0.701  0.693  0.682  0.668  0.664   \n",
       " United Arab Emirates            0.726  0.738  0.742  0.748  0.756  0.764   \n",
       " United Kingdom                  0.775  0.787  0.800  0.813  0.826  0.839   \n",
       " United States                   0.860  0.861  0.866  0.871  0.874  0.877   \n",
       " Uruguay                         0.692  0.697  0.700  0.703  0.709  0.711   \n",
       " Uzbekistan                        NaN    NaN    NaN    NaN    NaN    NaN   \n",
       " Vanuatu                           NaN    NaN    NaN    NaN    NaN    NaN   \n",
       " Venezuela                       0.634  0.644  0.650  0.653  0.654  0.658   \n",
       " Vietnam                         0.477  0.486  0.498  0.508  0.519  0.531   \n",
       " Yemen                           0.405  0.408  0.412  0.414  0.418  0.421   \n",
       " Zambia                          0.398  0.396  0.397  0.402  0.401  0.405   \n",
       " Zimbabwe                        0.499  0.501  0.486  0.479  0.475  0.465   \n",
       " \n",
       "                                  1996   1997   1998   1999  ...     2006  \\\n",
       " country                                                     ...            \n",
       " Afghanistan                     0.328  0.332  0.335  0.338  ...    0.415   \n",
       " Albania                         0.637  0.636  0.646  0.656  ...    0.703   \n",
       " Algeria                         0.609  0.617  0.627  0.636  ...    0.690   \n",
       " Andorra                           NaN    NaN    NaN    NaN  ...      NaN   \n",
       " Angola                            NaN    NaN    NaN  0.382  ...    0.454   \n",
       " Antigua and Barbuda               NaN    NaN    NaN    NaN  ...    0.781   \n",
       " Argentina                       0.738  0.746  0.753  0.764  ...    0.788   \n",
       " Armenia                         0.609  0.618  0.632  0.639  ...    0.707   \n",
       " Australia                       0.888  0.891  0.894  0.897  ...    0.918   \n",
       " Austria                         0.819  0.823  0.833  0.833  ...    0.860   \n",
       " Azerbaijan                      0.610  0.615  0.626  0.636  ...    0.708   \n",
       " Bahamas                           NaN    NaN    NaN    NaN  ...    0.790   \n",
       " Bahrain                         0.778  0.779  0.783  0.786  ...    0.813   \n",
       " Bangladesh                      0.432  0.441  0.450  0.459  ...    0.513   \n",
       " Barbados                        0.733  0.738  0.734  0.741  ...    0.771   \n",
       " Belarus                         0.659  0.666  0.670  0.675  ...    0.739   \n",
       " Belgium                         0.856  0.861  0.865  0.869  ...    0.871   \n",
       " Belize                          0.659  0.661  0.661  0.668  ...    0.700   \n",
       " Benin                           0.375  0.380  0.384  0.389  ...    0.438   \n",
       " Bhutan                            NaN    NaN    NaN    NaN  ...      NaN   \n",
       " Bolivia                         0.577  0.579  0.591  0.600  ...    0.626   \n",
       " Bosnia and Herzegovina            NaN    NaN    NaN    NaN  ...    0.703   \n",
       " Botswana                        0.575  0.572  0.564  0.559  ...    0.630   \n",
       " Brazil                          0.656  0.664  0.671  0.677  ...    0.700   \n",
       " Brunei                          0.807  0.810  0.812  0.818  ...    0.840   \n",
       " Bulgaria                        0.702  0.704  0.709  0.709  ...    0.755   \n",
       " Burkina Faso                      NaN    NaN    NaN    NaN  ...    0.334   \n",
       " Burundi                         0.262  0.264  0.268  0.268  ...    0.309   \n",
       " Cambodia                        0.391  0.397  0.396  0.401  ...    0.495   \n",
       " Cameroon                        0.433  0.434  0.438  0.433  ...    0.456   \n",
       " ...                               ...    ...    ...    ...  ...      ...   \n",
       " St. Vincent and the Grenadines    NaN    NaN    NaN    NaN  ...    0.702   \n",
       " Sudan                           0.373  0.382  0.388  0.394  ...    0.440   \n",
       " Suriname                          NaN    NaN    NaN    NaN  ...    0.684   \n",
       " Swaziland                       0.539  0.533  0.523  0.516  ...    0.508   \n",
       " Sweden                          0.859  0.862  0.867  0.873  ...    0.895   \n",
       " Switzerland                     0.853  0.863  0.872  0.879  ...    0.911   \n",
       " Syria                           0.581  0.586  0.589  0.588  ...    0.644   \n",
       " Tajikistan                      0.522  0.526  0.528  0.529  ...    0.586   \n",
       " Tanzania                        0.369  0.371  0.377  0.384  ...    0.457   \n",
       " Thailand                        0.619  0.625  0.630  0.640  ...    0.687   \n",
       " Timor-Leste                       NaN    NaN    NaN    NaN  ...    0.541   \n",
       " Togo                            0.417  0.424  0.424  0.425  ...    0.443   \n",
       " Tonga                           0.671  0.672  0.673  0.676  ...    0.698   \n",
       " Trinidad and Tobago             0.688  0.696  0.703  0.709  ...    0.760   \n",
       " Tunisia                         0.617  0.624  0.635  0.646  ...    0.695   \n",
       " Turkey                          0.613  0.621  0.632  0.641  ...    0.697   \n",
       " Turkmenistan                      NaN    NaN    NaN    NaN  ...      NaN   \n",
       " Uganda                          0.336  0.351  0.366  0.382  ...    0.442   \n",
       " Ukraine                         0.661  0.663  0.665  0.669  ...    0.723   \n",
       " United Arab Emirates            0.771  0.778  0.785  0.791  ...    0.826   \n",
       " United Kingdom                  0.843  0.849  0.854  0.860  ...    0.889   \n",
       " United States                   0.878  0.881  0.884  0.885  ...    0.901   \n",
       " Uruguay                         0.717  0.727  0.735  0.738  ...    0.760   \n",
       " Uzbekistan                        NaN    NaN    NaN    NaN  ...    0.631   \n",
       " Vanuatu                           NaN    NaN    NaN    NaN  ...    0.579   \n",
       " Venezuela                       0.660  0.664  0.667  0.670  ...    0.728   \n",
       " Vietnam                         0.542  0.542  0.562  0.569  ...    0.625   \n",
       " Yemen                           0.424  0.428  0.432  0.436  ...    0.477   \n",
       " Zambia                          0.408  0.411  0.413  0.418  ...    0.492   \n",
       " Zimbabwe                        0.460  0.451  0.442  0.434  ...    0.414   \n",
       " \n",
       "                                  2007   2008   2009   2010   2011   2012  \\\n",
       " country                                                                    \n",
       " Afghanistan                     0.433  0.434  0.448  0.454  0.463  0.470   \n",
       " Albania                         0.713  0.721  0.725  0.738  0.752  0.759   \n",
       " Algeria                         0.697  0.705  0.714  0.724  0.732  0.737   \n",
       " Andorra                           NaN    NaN    NaN  0.819  0.819  0.843   \n",
       " Angola                          0.468  0.480  0.488  0.495  0.508  0.523   \n",
       " Antigua and Barbuda             0.786  0.788  0.783  0.782  0.778  0.781   \n",
       " Argentina                       0.792  0.794  0.802  0.816  0.822  0.823   \n",
       " Armenia                         0.721  0.725  0.720  0.729  0.732  0.736   \n",
       " Australia                       0.921  0.925  0.927  0.927  0.930  0.933   \n",
       " Austria                         0.864  0.870  0.872  0.880  0.884  0.887   \n",
       " Azerbaijan                      0.719  0.728  0.737  0.741  0.742  0.745   \n",
       " Bahamas                         0.791  0.791  0.788  0.788  0.789  0.790   \n",
       " Bahrain                         0.815  0.814  0.810  0.812  0.812  0.815   \n",
       " Bangladesh                      0.520  0.523  0.535  0.545  0.557  0.565   \n",
       " Barbados                        0.775  0.779  0.781  0.780  0.785  0.792   \n",
       " Belarus                         0.755  0.771  0.780  0.787  0.793  0.796   \n",
       " Belgium                         0.874  0.876  0.878  0.884  0.886  0.889   \n",
       " Belize                          0.699  0.700  0.700  0.700  0.702  0.706   \n",
       " Benin                           0.444  0.448  0.451  0.454  0.458  0.466   \n",
       " Bhutan                            NaN    NaN    NaN  0.572  0.581  0.589   \n",
       " Bolivia                         0.632  0.636  0.643  0.649  0.655  0.661   \n",
       " Bosnia and Herzegovina          0.710  0.716  0.717  0.711  0.728  0.735   \n",
       " Botswana                        0.646  0.661  0.669  0.678  0.687  0.693   \n",
       " Brazil                          0.704  0.714  0.716  0.724  0.730  0.734   \n",
       " Brunei                          0.840  0.841  0.845  0.846  0.852  0.860   \n",
       " Bulgaria                        0.761  0.768  0.770  0.775  0.778  0.781   \n",
       " Burkina Faso                    0.345  0.356  0.365  0.377  0.384  0.392   \n",
       " Burundi                         0.319  0.336  0.361  0.385  0.393  0.398   \n",
       " Cambodia                        0.511  0.520  0.519  0.533  0.540  0.546   \n",
       " Cameroon                        0.466  0.473  0.480  0.486  0.496  0.501   \n",
       " ...                               ...    ...    ...    ...    ...    ...   \n",
       " St. Vincent and the Grenadines  0.704  0.709  0.711  0.712  0.713  0.717   \n",
       " Sudan                           0.444  0.456  0.461  0.463  0.468  0.478   \n",
       " Suriname                        0.691  0.696  0.700  0.704  0.708  0.719   \n",
       " Swaziland                       0.514  0.519  0.523  0.526  0.534  0.539   \n",
       " Sweden                          0.897  0.898  0.895  0.901  0.903  0.904   \n",
       " Switzerland                     0.914  0.916  0.920  0.932  0.932  0.934   \n",
       " Syria                           0.651  0.648  0.650  0.646  0.645  0.635   \n",
       " Tajikistan                      0.592  0.601  0.603  0.608  0.613  0.617   \n",
       " Tanzania                        0.468  0.478  0.488  0.498  0.504  0.513   \n",
       " Thailand                        0.700  0.706  0.711  0.720  0.729  0.733   \n",
       " Timor-Leste                     0.566  0.599  0.599  0.607  0.618  0.620   \n",
       " Togo                            0.441  0.442  0.449  0.457  0.464  0.470   \n",
       " Tonga                           0.698  0.703  0.707  0.712  0.717  0.718   \n",
       " Trinidad and Tobago             0.767  0.773  0.772  0.774  0.772  0.773   \n",
       " Tunisia                         0.701  0.706  0.710  0.714  0.717  0.720   \n",
       " Turkey                          0.705  0.709  0.715  0.737  0.750  0.754   \n",
       " Turkmenistan                      NaN    NaN    NaN  0.665  0.672  0.678   \n",
       " Uganda                          0.453  0.464  0.473  0.477  0.477  0.478   \n",
       " Ukraine                         0.730  0.734  0.728  0.734  0.739  0.744   \n",
       " United Arab Emirates            0.829  0.831  0.826  0.824  0.826  0.829   \n",
       " United Kingdom                  0.892  0.895  0.895  0.902  0.898  0.899   \n",
       " United States                   0.905  0.907  0.907  0.910  0.913  0.915   \n",
       " Uruguay                         0.770  0.774  0.777  0.780  0.784  0.788   \n",
       " Uzbekistan                      0.644  0.651  0.657  0.664  0.673  0.681   \n",
       " Vanuatu                         0.582  0.589  0.590  0.591  0.592  0.591   \n",
       " Venezuela                       0.745  0.754  0.754  0.756  0.767  0.770   \n",
       " Vietnam                         0.633  0.641  0.647  0.655  0.662  0.668   \n",
       " Yemen                           0.480  0.483  0.488  0.493  0.494  0.498   \n",
       " Zambia                          0.504  0.518  0.533  0.543  0.554  0.565   \n",
       " Zimbabwe                        0.421  0.419  0.436  0.452  0.464  0.488   \n",
       " \n",
       "                                  2013   2014   2015  \n",
       " country                                              \n",
       " Afghanistan                     0.476  0.479  0.479  \n",
       " Albania                         0.761  0.762  0.764  \n",
       " Algeria                         0.741  0.743  0.745  \n",
       " Andorra                         0.850  0.857  0.858  \n",
       " Angola                          0.527  0.531  0.533  \n",
       " Antigua and Barbuda             0.782  0.784  0.786  \n",
       " Argentina                       0.825  0.826  0.827  \n",
       " Armenia                         0.739  0.741  0.743  \n",
       " Australia                       0.936  0.937  0.939  \n",
       " Austria                         0.892  0.892  0.893  \n",
       " Azerbaijan                      0.752  0.758  0.759  \n",
       " Bahamas                         0.789  0.790  0.792  \n",
       " Bahrain                         0.820  0.823  0.824  \n",
       " Bangladesh                      0.570  0.575  0.579  \n",
       " Barbados                        0.793  0.794  0.795  \n",
       " Belarus                         0.796  0.798  0.796  \n",
       " Belgium                         0.890  0.895  0.896  \n",
       " Belize                          0.705  0.706  0.706  \n",
       " Benin                           0.475  0.481  0.485  \n",
       " Bhutan                          0.596  0.604  0.607  \n",
       " Bolivia                         0.666  0.671  0.674  \n",
       " Bosnia and Herzegovina          0.742  0.747  0.750  \n",
       " Botswana                        0.697  0.698  0.698  \n",
       " Brazil                          0.747  0.754  0.754  \n",
       " Brunei                          0.863  0.864  0.865  \n",
       " Bulgaria                        0.787  0.792  0.794  \n",
       " Burkina Faso                    0.398  0.399  0.402  \n",
       " Burundi                         0.404  0.406  0.404  \n",
       " Cambodia                        0.553  0.558  0.563  \n",
       " Cameroon                        0.507  0.514  0.518  \n",
       " ...                               ...    ...    ...  \n",
       " St. Vincent and the Grenadines  0.720  0.720  0.722  \n",
       " Sudan                           0.485  0.488  0.490  \n",
       " Suriname                        0.722  0.723  0.725  \n",
       " Swaziland                       0.541  0.541  0.541  \n",
       " Sweden                          0.906  0.909  0.913  \n",
       " Switzerland                     0.936  0.938  0.939  \n",
       " Syria                           0.575  0.553  0.536  \n",
       " Tajikistan                      0.622  0.625  0.627  \n",
       " Tanzania                        0.512  0.519  0.531  \n",
       " Thailand                        0.737  0.738  0.740  \n",
       " Timor-Leste                     0.612  0.603  0.606  \n",
       " Togo                            0.475  0.484  0.487  \n",
       " Tonga                           0.716  0.718  0.721  \n",
       " Trinidad and Tobago             0.778  0.779  0.780  \n",
       " Tunisia                         0.722  0.723  0.725  \n",
       " Turkey                          0.759  0.764  0.767  \n",
       " Turkmenistan                    0.683  0.688  0.692  \n",
       " Uganda                          0.483  0.488  0.493  \n",
       " Ukraine                         0.746  0.748  0.743  \n",
       " United Arab Emirates            0.832  0.836  0.840  \n",
       " United Kingdom                  0.904  0.908  0.910  \n",
       " United States                   0.916  0.918  0.920  \n",
       " Uruguay                         0.791  0.794  0.795  \n",
       " Uzbekistan                      0.690  0.697  0.701  \n",
       " Vanuatu                         0.596  0.598  0.597  \n",
       " Venezuela                       0.771  0.769  0.767  \n",
       " Vietnam                         0.675  0.678  0.683  \n",
       " Yemen                           0.500  0.499  0.482  \n",
       " Zambia                          0.570  0.576  0.579  \n",
       " Zimbabwe                        0.498  0.507  0.516  \n",
       " \n",
       " [187 rows x 26 columns]]"
      ]
     },
     "execution_count": 26,
     "metadata": {},
     "output_type": "execute_result"
    }
   ],
   "source": [
    "list(datasets_di.values())"
   ]
  },
  {
   "cell_type": "markdown",
   "metadata": {},
   "source": [
    "Add uncommon countries (to be trimmed) to meta_df."
   ]
  },
  {
   "cell_type": "code",
   "execution_count": 27,
   "metadata": {},
   "outputs": [
    {
     "data": {
      "text/html": [
       "<div>\n",
       "<style scoped>\n",
       "    .dataframe tbody tr th:only-of-type {\n",
       "        vertical-align: middle;\n",
       "    }\n",
       "\n",
       "    .dataframe tbody tr th {\n",
       "        vertical-align: top;\n",
       "    }\n",
       "\n",
       "    .dataframe thead th {\n",
       "        text-align: right;\n",
       "    }\n",
       "</style>\n",
       "<table border=\"1\" class=\"dataframe\">\n",
       "  <thead>\n",
       "    <tr style=\"text-align: right;\">\n",
       "      <th></th>\n",
       "      <th>dataframe</th>\n",
       "      <th>excluded_countries</th>\n",
       "    </tr>\n",
       "    <tr>\n",
       "      <th>statistic</th>\n",
       "      <th></th>\n",
       "      <th></th>\n",
       "    </tr>\n",
       "  </thead>\n",
       "  <tbody>\n",
       "    <tr>\n",
       "      <th>life_expectancy</th>\n",
       "      <td>life_expectancy_years</td>\n",
       "      <td>[Marshall Islands, North Korea, Somalia]</td>\n",
       "    </tr>\n",
       "    <tr>\n",
       "      <th>hdi_human</th>\n",
       "      <td>hdi_human_development_index</td>\n",
       "      <td>[Liechtenstein, Palau, St. Kitts and Nevis]</td>\n",
       "    </tr>\n",
       "  </tbody>\n",
       "</table>\n",
       "</div>"
      ],
      "text/plain": [
       "                                   dataframe  \\\n",
       "statistic                                      \n",
       "life_expectancy  life_expectancy_years         \n",
       "hdi_human        hdi_human_development_index   \n",
       "\n",
       "                                          excluded_countries  \n",
       "statistic                                                     \n",
       "life_expectancy  [Marshall Islands, North Korea, Somalia]     \n",
       "hdi_human        [Liechtenstein, Palau, St. Kitts and Nevis]  "
      ]
     },
     "execution_count": 27,
     "metadata": {},
     "output_type": "execute_result"
    }
   ],
   "source": [
    "meta_df['excluded_countries'] = \"\"\n",
    "for data_set, df in datasets_di.items():\n",
    "    meta_df.loc[data_set]['excluded_countries'] = [x for x in df.index if x not in common_countries_list]\n",
    "    \n",
    "# View the countries to be excluded.\n",
    "pd.set_option('display.max_colwidth', -1)\n",
    "meta_df"
   ]
  },
  {
   "cell_type": "markdown",
   "metadata": {},
   "source": [
    "***<br>\n",
    "TODO: add functionality to verify with the analyst that the above <br>\n",
    "list is acceptable before trimming excluded countries.<br>\n",
    "<br>\n",
    "Exclude non-common countries from dataframes."
   ]
  },
  {
   "cell_type": "code",
   "execution_count": 28,
   "metadata": {},
   "outputs": [],
   "source": [
    "for dfname, df in datasets_di.items():\n",
    "    datasets_di[dfname] = df[df.index.isin(common_countries_list)]"
   ]
  },
  {
   "cell_type": "markdown",
   "metadata": {},
   "source": [
    "Verify dataframe row counts match (confirming the same number of countries)."
   ]
  },
  {
   "cell_type": "code",
   "execution_count": 29,
   "metadata": {},
   "outputs": [
    {
     "name": "stdout",
     "output_type": "stream",
     "text": [
      "184 life_expectancy\n",
      "184 hdi_human\n"
     ]
    }
   ],
   "source": [
    "[print(df.shape[0], dfname) for dfname, df in datasets_di.items()];"
   ]
  },
  {
   "cell_type": "markdown",
   "metadata": {},
   "source": [
    "TODO: more automated exception handling here, verify working with a uniform set of countries. <br>\n",
    "<br>\n",
    "Trim year columns ..."
   ]
  },
  {
   "cell_type": "markdown",
   "metadata": {},
   "source": [
    "#### Years - Trim<br>\n",
    "Verify a consistent range of years by finding a common range of years and trimming the rest."
   ]
  },
  {
   "cell_type": "markdown",
   "metadata": {},
   "source": [
    "Functions for Trimming"
   ]
  },
  {
   "cell_type": "code",
   "execution_count": 30,
   "metadata": {},
   "outputs": [],
   "source": [
    "def get_year_metadata(dict):\n",
    "    \"\"\"Return dataframe containing range of years.\"\"\"\n",
    "    result_df = pd.DataFrame()\n",
    "    for dfname, df in dict.items():\n",
    "        result_df[dfname] = [df.columns[0], df.columns[-1]]\n",
    "    result_df = result_df.transpose()   \n",
    "    result_df.rename(columns = {0:'first_year',1:'last_year'}, inplace=True)\n",
    "    result_df.index.names = ['data_set']\n",
    "    return result_df"
   ]
  },
  {
   "cell_type": "code",
   "execution_count": 31,
   "metadata": {},
   "outputs": [],
   "source": [
    "def trim_df_dict(df_dict, col_list):\n",
    "    \"\"\"Return dictionary of dataframes, trimmed of columns not in col_list.\"\"\"\n",
    "    result_dict = {}\n",
    "    for dfname, df in df_dict.items():\n",
    "        keep_columns = [col for col in df_dict[dfname].columns if col in col_list]\n",
    "        result_dict[dfname] = df_dict[dfname][keep_columns]\n",
    "        \n",
    "    return result_dict"
   ]
  },
  {
   "cell_type": "markdown",
   "metadata": {},
   "source": [
    "Before trimming years, record the original year ranges to `meta_df` <br>\n",
    "for reference, and report the Common Year Range."
   ]
  },
  {
   "cell_type": "code",
   "execution_count": 32,
   "metadata": {},
   "outputs": [
    {
     "data": {
      "text/html": [
       "<div>\n",
       "<style scoped>\n",
       "    .dataframe tbody tr th:only-of-type {\n",
       "        vertical-align: middle;\n",
       "    }\n",
       "\n",
       "    .dataframe tbody tr th {\n",
       "        vertical-align: top;\n",
       "    }\n",
       "\n",
       "    .dataframe thead th {\n",
       "        text-align: right;\n",
       "    }\n",
       "</style>\n",
       "<table border=\"1\" class=\"dataframe\">\n",
       "  <thead>\n",
       "    <tr style=\"text-align: right;\">\n",
       "      <th></th>\n",
       "      <th>first_year</th>\n",
       "      <th>last_year</th>\n",
       "    </tr>\n",
       "  </thead>\n",
       "  <tbody>\n",
       "    <tr>\n",
       "      <th>life_expectancy</th>\n",
       "      <td>1800</td>\n",
       "      <td>2018</td>\n",
       "    </tr>\n",
       "    <tr>\n",
       "      <th>hdi_human</th>\n",
       "      <td>1990</td>\n",
       "      <td>2015</td>\n",
       "    </tr>\n",
       "  </tbody>\n",
       "</table>\n",
       "</div>"
      ],
      "text/plain": [
       "                first_year last_year\n",
       "life_expectancy  1800       2018    \n",
       "hdi_human        1990       2015    "
      ]
     },
     "execution_count": 32,
     "metadata": {},
     "output_type": "execute_result"
    }
   ],
   "source": [
    "meta_df = pd.concat([meta_df, get_year_metadata(datasets_di)], axis=1)\n",
    "meta_df[['first_year','last_year']]"
   ]
  },
  {
   "cell_type": "markdown",
   "metadata": {},
   "source": [
    "Find common range"
   ]
  },
  {
   "cell_type": "code",
   "execution_count": 33,
   "metadata": {},
   "outputs": [],
   "source": [
    "first_year, last_year = (meta_df['first_year'].max(), meta_df['last_year'].min())"
   ]
  },
  {
   "cell_type": "markdown",
   "metadata": {},
   "source": [
    "Confirm range of years"
   ]
  },
  {
   "cell_type": "code",
   "execution_count": 34,
   "metadata": {},
   "outputs": [
    {
     "name": "stdout",
     "output_type": "stream",
     "text": [
      "Common Year Range: 1990 -> 2015\n",
      "\n"
     ]
    }
   ],
   "source": [
    "print('Common Year Range: {} -> {}\\n'.format(first_year, last_year))"
   ]
  },
  {
   "cell_type": "markdown",
   "metadata": {},
   "source": [
    "TODO: more exception handling here.<br>\n",
    "<br>\n",
    "Trim the years outside the Common Year Range."
   ]
  },
  {
   "cell_type": "code",
   "execution_count": 35,
   "metadata": {},
   "outputs": [],
   "source": [
    "years_in_range = [str(y) for y in list(range(int(first_year),int(last_year)+1))]\n",
    "datasets_di = trim_df_dict(datasets_di, years_in_range)"
   ]
  },
  {
   "cell_type": "markdown",
   "metadata": {},
   "source": [
    "At this point, dataframes should have the same shape (country rows <br>\n",
    "and year columns). Verify this ... (TODO: automate the verification)"
   ]
  },
  {
   "cell_type": "markdown",
   "metadata": {},
   "source": [
    "Confirm trimmed datasets. Each dataset should have same year columns."
   ]
  },
  {
   "cell_type": "code",
   "execution_count": 36,
   "metadata": {},
   "outputs": [
    {
     "name": "stdout",
     "output_type": "stream",
     "text": [
      "(184, 26) <-- life_expectancy\n",
      "(184, 26) <-- hdi_human\n"
     ]
    }
   ],
   "source": [
    "[print('{} <-- {}'.format(df.shape, dfname)) for dfname, df in datasets_di.items()];"
   ]
  },
  {
   "cell_type": "markdown",
   "metadata": {},
   "source": [
    "Dataframes should now clean and trim. "
   ]
  },
  {
   "cell_type": "markdown",
   "metadata": {},
   "source": [
    "## Correlation Analysis"
   ]
  },
  {
   "cell_type": "markdown",
   "metadata": {},
   "source": [
    "Use `datasets_di` for these set of questions, since its dataframes <br>\n",
    "have a consistent country list and range of years. <br>\n",
    "<br>\n",
    "Consider each dataset an individual 'factor'. <br>\n",
    "<br>\n",
    "TODO: make factor identification more flexible, such as multiple factors per dataset."
   ]
  },
  {
   "cell_type": "markdown",
   "metadata": {},
   "source": [
    "#### Prepare the data<br>\n",
    "Create two new structures:<br>\n",
    "* `dataset_stats` - dictionary of dataframes, similar to the <br>\n",
    "  `datasets_di` dataframes but containing only the averages <br>\n",
    "  for each country. (Includes averages of factor statistics. <br>\n",
    "  TODO: drop if not needed.)"
   ]
  },
  {
   "cell_type": "markdown",
   "metadata": {},
   "source": [
    "Create dataset_stats (dictionary of dataframes of with country means)"
   ]
  },
  {
   "cell_type": "code",
   "execution_count": 37,
   "metadata": {},
   "outputs": [],
   "source": [
    "dataset_stats = {}\n",
    "for dfname, df in datasets_di.items():\n",
    "    dataset_stats[dfname] = df.transpose() \\\n",
    "                            .describe().loc[['mean']] \\\n",
    "                            .transpose()"
   ]
  },
  {
   "cell_type": "markdown",
   "metadata": {},
   "source": [
    "Create 2D array, a row for each stat: <br>\n",
    "  [[statistic name, statistic mean name]]"
   ]
  },
  {
   "cell_type": "code",
   "execution_count": 38,
   "metadata": {},
   "outputs": [
    {
     "data": {
      "text/plain": [
       "array([['life_expectancy', 'life_expectancy_mean'],\n",
       "       ['hdi_human', 'hdi_human_mean']], dtype='<U20')"
      ]
     },
     "execution_count": 38,
     "metadata": {},
     "output_type": "execute_result"
    }
   ],
   "source": [
    "stats_arr = np.array([(stat, stat+\"_mean\") for stat in meta_df.index])\n",
    "stats_arr"
   ]
  },
  {
   "cell_type": "markdown",
   "metadata": {},
   "source": [
    "Find the correlation between every pair of factor statistics. First, create the pairings ...<br>\n",
    "Create tuple pairs of all our statistic (dataframe) combinations."
   ]
  },
  {
   "cell_type": "code",
   "execution_count": 39,
   "metadata": {},
   "outputs": [],
   "source": [
    "stat_list = list(datasets_di.keys())\n",
    "dataset_corrs = pd.DataFrame(columns=['size','this_stat','that_stat','r'])\n",
    "combines = list(combinations(stat_list,2))"
   ]
  },
  {
   "cell_type": "markdown",
   "metadata": {},
   "source": [
    "Now calculate the correlaltion coefficients ('r') for each pair ...<br>\n",
    "Compute correlation coefficients against each statistic pair."
   ]
  },
  {
   "cell_type": "code",
   "execution_count": 40,
   "metadata": {},
   "outputs": [],
   "source": [
    "for stat_tuple in combines:\n",
    "    this_stat = stat_tuple[0] \n",
    "    that_stat = stat_tuple[1]\n",
    "    this_mean = dataset_stats[this_stat]['mean']\n",
    "    that_mean = dataset_stats[that_stat]['mean']\n",
    "    \n",
    "    correlation = this_mean.corr(that_mean)\n",
    "    dataset_corrs = dataset_corrs.append({'size':'all', \\\n",
    "                                          'this_stat':this_stat, \\\n",
    "                                          'that_stat':that_stat,  \\\n",
    "                                          'r':correlation  \\\n",
    "                                          }, \\\n",
    "                                          ignore_index=True \\\n",
    "                                         )  \n",
    "        "
   ]
  },
  {
   "cell_type": "markdown",
   "metadata": {},
   "source": [
    "Filter moderate-to-strong correlations."
   ]
  },
  {
   "cell_type": "code",
   "execution_count": 41,
   "metadata": {},
   "outputs": [
    {
     "name": "stdout",
     "output_type": "stream",
     "text": [
      "  size        this_stat  that_stat         r\n",
      "0  all  life_expectancy  hdi_human  0.901248\n"
     ]
    }
   ],
   "source": [
    "dataset_corrs = dataset_corrs[abs(dataset_corrs['r']) > .4].sort_values(by=['r']).reset_index(drop=True)\n",
    "print(dataset_corrs)"
   ]
  },
  {
   "cell_type": "markdown",
   "metadata": {},
   "source": [
    "Visualize the pairings with a graph"
   ]
  },
  {
   "cell_type": "code",
   "execution_count": 42,
   "metadata": {},
   "outputs": [
    {
     "data": {
      "image/png": "[encoded data removed]",
      "text/plain": [
       "<Figure size 576x576 with 1 Axes>"
      ]
     },
     "metadata": {},
     "output_type": "display_data"
    }
   ],
   "source": [
    "df = dataset_corrs[dataset_corrs['size'] == 'all']\n",
    "x = df['r']\n",
    "y = df['this_stat'].astype(str) + ' / ' + df['that_stat'].astype(str)\n",
    "data = pd.concat([x,y], axis=1).set_index(0).rename_axis('this/that')\n",
    "ax = data['r'].plot(kind='barh',fontsize=13, color='steelblue',figsize=(8,8));\n",
    "ax.set_title(\"Statistic Correlations, Globally\", fontsize=20, color='black')\n",
    "ax.set_xlabel(\"Correlation Coefficients\", fontsize=18, color='black')\n",
    "ax.set_ylabel(\"Statistic Pairs\", fontsize=18, color='black');\n",
    "plt.show()"
   ]
  },
  {
   "cell_type": "markdown",
   "metadata": {},
   "source": [
    "***"
   ]
  }
 ],
 "metadata": {
  "kernelspec": {
   "display_name": "Python [conda env:py3]",
   "language": "python",
   "name": "conda-env-py3-py"
  },
  "language_info": {
   "codemirror_mode": {
    "name": "ipython",
    "version": 3
   },
   "file_extension": ".py",
   "mimetype": "text/x-python",
   "name": "python",
   "nbconvert_exporter": "python",
   "pygments_lexer": "ipython3",
   "version": "3.6.7"
  }
 },
 "nbformat": 4,
 "nbformat_minor": 2
}
